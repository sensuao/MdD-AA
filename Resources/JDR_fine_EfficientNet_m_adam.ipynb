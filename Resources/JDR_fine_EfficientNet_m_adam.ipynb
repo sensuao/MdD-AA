{
  "cells": [
    {
      "cell_type": "markdown",
      "metadata": {
        "id": "zF9uvbXNVrVY"
      },
      "source": [
        "## Import packages"
      ],
      "id": "zF9uvbXNVrVY"
    },
    {
      "cell_type": "code",
      "execution_count": 1,
      "metadata": {
        "id": "rtPGh2MAVrVa"
      },
      "outputs": [],
      "source": [
        "from __future__ import absolute_import, division, print_function, unicode_literals"
      ],
      "id": "rtPGh2MAVrVa"
    },
    {
      "cell_type": "markdown",
      "metadata": {
        "id": "Jlchl4x2VrVg"
      },
      "source": [
        "Import Tensorflow and the Keras classes needed to construct our model."
      ],
      "id": "Jlchl4x2VrVg"
    },
    {
      "cell_type": "code",
      "execution_count": 2,
      "metadata": {
        "id": "E82grprdYPI0"
      },
      "outputs": [],
      "source": [
        "try:\n",
        "  # %tensorflow_version only exists in Colab.\n",
        "  %tensorflow_version 2.x\n",
        "except Exception:\n",
        "  pass\n",
        "import tensorflow as tf"
      ],
      "id": "E82grprdYPI0"
    },
    {
      "cell_type": "code",
      "execution_count": 3,
      "metadata": {
        "id": "L1WtoaOHVrVh"
      },
      "outputs": [],
      "source": [
        "from tensorflow.keras.models import Sequential\n",
        "from tensorflow.keras.layers import Dense, Conv2D, Flatten, Dropout, MaxPooling2D\n",
        "from tensorflow.keras.preprocessing.image import ImageDataGenerator, load_img\n",
        "\n",
        "from tensorflow.keras import layers\n",
        "from tensorflow.keras import Model, metrics\n",
        "from tensorflow.keras.optimizers import RMSprop, SGD\n",
        "\n",
        "import os\n",
        "import zipfile\n",
        "\n",
        "import numpy as np\n",
        "import matplotlib.pyplot as plt\n",
        "import pandas as pd"
      ],
      "id": "L1WtoaOHVrVh"
    },
    {
      "cell_type": "markdown",
      "metadata": {
        "id": "UZZI6lNkVrVm"
      },
      "source": [
        "## Load data"
      ],
      "id": "UZZI6lNkVrVm"
    },
    {
      "cell_type": "code",
      "source": [
        "from google.colab import drive\n",
        "drive.mount('/content/drive')"
      ],
      "metadata": {
        "colab": {
          "base_uri": "https://localhost:8080/"
        },
        "id": "HCAjJLhr1fqC",
        "outputId": "27be14d0-a372-4faf-ac18-2d6f194dd6f1"
      },
      "execution_count": 4,
      "outputs": [
        {
          "output_type": "stream",
          "name": "stdout",
          "text": [
            "Mounted at /content/drive\n"
          ]
        }
      ],
      "id": "HCAjJLhr1fqC"
    },
    {
      "cell_type": "code",
      "source": [
        "train_local_zip = '/content/drive/MyDrive/lulc-tra-val.zip'\n",
        "zip_ref = zipfile.ZipFile(train_local_zip, 'r')\n",
        "zip_ref.extractall('/content/sample_data/lulc-tra-val')\n",
        "\n",
        "test_local_zip = '/content/drive/MyDrive/test.zip'\n",
        "zip_ref = zipfile.ZipFile(test_local_zip, 'r')\n",
        "zip_ref.extractall('/content/sample_data/lulc-tra-val/lulc-classificatio')\n",
        "\n",
        "zip_ref.close()"
      ],
      "metadata": {
        "id": "DmYx9zPa25Mz"
      },
      "execution_count": 5,
      "outputs": [],
      "id": "DmYx9zPa25Mz"
    },
    {
      "cell_type": "code",
      "execution_count": 6,
      "metadata": {
        "id": "ly_AzZbb0diz"
      },
      "outputs": [],
      "source": [
        "PATH = '/content/sample_data/lulc-tra-val/lulc-classificatio'"
      ],
      "id": "ly_AzZbb0diz"
    },
    {
      "cell_type": "markdown",
      "metadata": {
        "id": "VpmywIlsVrVx"
      },
      "source": [
        "After extracting its contents, assign variables with the proper file path for the training and validation set."
      ],
      "id": "VpmywIlsVrVx"
    },
    {
      "cell_type": "code",
      "execution_count": 7,
      "metadata": {
        "id": "sRucI3QqVrVy"
      },
      "outputs": [],
      "source": [
        "train_dir = os.path.join(PATH, 'train')\n",
        "validation_dir = os.path.join(PATH, 'validation')\n",
        "test_dir = os.path.join(PATH, 'test')"
      ],
      "id": "sRucI3QqVrVy"
    },
    {
      "cell_type": "code",
      "source": [
        "train_BarrenLands_dir = os.path.join(train_dir, '1_BarrenLands___jpeg')\n",
        "validation_BarrenLands_dir = os.path.join(validation_dir, '1_BarrenLands___jpeg')"
      ],
      "metadata": {
        "id": "u8swHNapWkBc"
      },
      "id": "u8swHNapWkBc",
      "execution_count": 8,
      "outputs": []
    },
    {
      "cell_type": "code",
      "execution_count": 9,
      "metadata": {
        "id": "vc4u8e9hVrV4",
        "colab": {
          "base_uri": "https://localhost:8080/"
        },
        "outputId": "8cde3ce4-4fe9-4b2a-cfe4-294a78f22759"
      },
      "outputs": [
        {
          "output_type": "stream",
          "name": "stdout",
          "text": [
            "total training barren images: 283\n",
            "total validation barren images: 71\n"
          ]
        }
      ],
      "source": [
        "num_barren_tr = len(os.listdir(train_BarrenLands_dir))\n",
        "num_barren_val = len(os.listdir(validation_BarrenLands_dir))\n",
        "\n",
        "print('total training barren images:', num_barren_tr)\n",
        "print('total validation barren images:', num_barren_val)"
      ],
      "id": "vc4u8e9hVrV4"
    },
    {
      "cell_type": "code",
      "execution_count": 10,
      "metadata": {
        "id": "3NqNselLVrWA"
      },
      "outputs": [],
      "source": [
        "batch_size = 32\n",
        "img_height = 160\n",
        "img_width = 160"
      ],
      "id": "3NqNselLVrWA"
    },
    {
      "cell_type": "markdown",
      "id": "6HcE1TSqNRY2",
      "metadata": {
        "id": "6HcE1TSqNRY2"
      },
      "source": [
        "## Training and Validation Generators\n",
        "\n",
        "Now that you know the images you are dealing with, it is time for you to code the generators that will fed these images to your Network. For this, complete the `train_val_generators` function below:\n",
        "\n",
        "**Important Note:** The images have a resolution of 300x300 but the `flow_from_directory` method you will use allows you to set a target resolution. In this case, **set a `target_size` of (150, 150)**. This will heavily lower the number of trainable parameters in your final network, yielding much quicker training times without compromising the accuracy!"
      ]
    },
    {
      "cell_type": "code",
      "execution_count": 11,
      "id": "AX5Q3NL_FXMT",
      "metadata": {
        "cellView": "code",
        "id": "AX5Q3NL_FXMT"
      },
      "outputs": [],
      "source": [
        "# GRADED FUNCTION: train_val_generators\n",
        "def train_val_generators(TRAINING_DIR, VALIDATION_DIR):\n",
        "  ### START CODE HERE\n",
        "\n",
        "  # Instantiate the ImageDataGenerator class \n",
        "  # Don't forget to normalize pixel values and set arguments to augment the images \n",
        "  train_datagen = ImageDataGenerator(\n",
        "      rescale=1./255,\n",
        "      rotation_range=40,\n",
        "      width_shift_range=0.2,\n",
        "      height_shift_range=0.2,\n",
        "      shear_range=0.2,\n",
        "      zoom_range=0.2,\n",
        "      horizontal_flip=True,\n",
        "      fill_mode='nearest')\n",
        "\n",
        "  # Pass in the appropriate arguments to the flow_from_directory method\n",
        "  train_generator = train_datagen.flow_from_directory(directory=TRAINING_DIR,\n",
        "                                                      batch_size=batch_size, \n",
        "                                                      class_mode='categorical',\n",
        "                                                      target_size=(img_width, img_height))\n",
        "\n",
        "  # Instantiate the ImageDataGenerator class (don't forget to set the rescale argument)\n",
        "  # Remember that validation data should not be augmented\n",
        "  validation_datagen = ImageDataGenerator(\n",
        "      rescale=1./255,\n",
        "      )\n",
        "\n",
        "  # Pass in the appropriate arguments to the flow_from_directory method\n",
        "  validation_generator = validation_datagen.flow_from_directory(directory=VALIDATION_DIR,\n",
        "                                                                batch_size=batch_size, \n",
        "                                                                class_mode='categorical',\n",
        "                                                                target_size=(img_width, img_height))\n",
        "  ### END CODE HERE\n",
        "  return train_generator, validation_generator\n"
      ]
    },
    {
      "cell_type": "code",
      "execution_count": 12,
      "id": "8FLUUqMKFwVR",
      "metadata": {
        "colab": {
          "base_uri": "https://localhost:8080/"
        },
        "id": "8FLUUqMKFwVR",
        "outputId": "5385be4b-ef27-46e0-ffd0-c2a7ab08b0b0"
      },
      "outputs": [
        {
          "output_type": "stream",
          "name": "stdout",
          "text": [
            "Found 8207 images belonging to 29 classes.\n",
            "Found 2059 images belonging to 29 classes.\n"
          ]
        }
      ],
      "source": [
        "# Test your generators\n",
        "train_generator, validation_generator = train_val_generators(train_dir, validation_dir)"
      ]
    },
    {
      "cell_type": "markdown",
      "id": "TszKWhunQaj4",
      "metadata": {
        "id": "TszKWhunQaj4"
      },
      "source": [
        "**Expected Output:**\n",
        "```\n",
        "Found 1027 images belonging to 2 classes.\n",
        "Found 256 images belonging to 2 classes.\n",
        "```"
      ]
    },
    {
      "cell_type": "markdown",
      "id": "Izx51Ju1rXwd",
      "metadata": {
        "id": "Izx51Ju1rXwd"
      },
      "source": [
        "## Transfer learning - Create the pre-trained model\n",
        "\n",
        "Download the `inception V3` weights into the `/tmp/` directory:"
      ]
    },
    {
      "cell_type": "code",
      "source": [
        "import tensorflow_hub as hub\n",
        "\n",
        "m = tf.keras.Sequential([\n",
        "    hub.KerasLayer(\"https://tfhub.dev/google/imagenet/efficientnet_v2_imagenet21k_m/feature_vector/2\",\n",
        "                   trainable=False),  # Can be True, see below.\n",
        "      # Add a fully connected layer with 1024 hidden units and ReLU activation\n",
        "    layers.Dense(512, activation='relu'),\n",
        "    # Add a dropout rate of 0. 2\n",
        "    layers.Dropout(0.2),\n",
        "\n",
        "    layers.Dense(29, activation='softmax')\n",
        "])\n",
        "m.build([None, 480, 480, 3])  # Batch input shape."
      ],
      "metadata": {
        "id": "9yg2LwTKTATB"
      },
      "execution_count": 15,
      "outputs": [],
      "id": "9yg2LwTKTATB"
    },
    {
      "cell_type": "code",
      "source": [
        "m.compile(optimizer='Adam',\n",
        "          loss='categorical_crossentropy',\n",
        "          metrics = ['accuracy'])"
      ],
      "metadata": {
        "id": "Vey1RSWdJDPP"
      },
      "id": "Vey1RSWdJDPP",
      "execution_count": 16,
      "outputs": []
    },
    {
      "cell_type": "code",
      "execution_count": 17,
      "id": "Blhq2MAUeyGA",
      "metadata": {
        "colab": {
          "base_uri": "https://localhost:8080/"
        },
        "id": "Blhq2MAUeyGA",
        "outputId": "e9f0355f-9c99-4cff-ebc6-86442c81e4c9",
        "scrolled": true
      },
      "outputs": [
        {
          "output_type": "stream",
          "name": "stdout",
          "text": [
            "Epoch 1/5\n",
            "257/257 [==============================] - 139s 422ms/step - loss: 1.4460 - accuracy: 0.5493 - val_loss: 1.0995 - val_accuracy: 0.6314\n",
            "Epoch 2/5\n",
            "257/257 [==============================] - 103s 400ms/step - loss: 0.9215 - accuracy: 0.6943 - val_loss: 1.0166 - val_accuracy: 0.6586\n",
            "Epoch 3/5\n",
            "257/257 [==============================] - 104s 405ms/step - loss: 0.7909 - accuracy: 0.7269 - val_loss: 0.9696 - val_accuracy: 0.6877\n",
            "Epoch 4/5\n",
            "257/257 [==============================] - 101s 394ms/step - loss: 0.7064 - accuracy: 0.7604 - val_loss: 1.0522 - val_accuracy: 0.6833\n",
            "Epoch 5/5\n",
            "257/257 [==============================] - 103s 400ms/step - loss: 0.6793 - accuracy: 0.7622 - val_loss: 0.9590 - val_accuracy: 0.6916\n"
          ]
        }
      ],
      "source": [
        "# Run this and see how many epochs it should take before the callback\n",
        "# fires, and stops training at 99.9% accuracy\n",
        "# (It should take a few epochs)\n",
        "initial_epochs = 5\n",
        "history = m.fit(train_generator,\n",
        "                    validation_data = validation_generator,\n",
        "                    #batch_size = batch_size,\n",
        "                    #steps_per_epoch = num_barren_tr // batch_size,\n",
        "                    epochs = initial_epochs,\n",
        "                    #validation_steps = num_barren_val // batch_size,\n",
        "                    verbose = 1)"
      ]
    },
    {
      "cell_type": "markdown",
      "id": "Y94djl4t0sK5",
      "metadata": {
        "id": "Y94djl4t0sK5"
      },
      "source": [
        "The training should have stopped after less than 10 epochs and it should have reached an accuracy over 99,9% (firing the callback). This happened so quickly because of the pre-trained model you used, which already contained information to classify humans from horses. Really cool!\n",
        "\n",
        "Now take a quick look at the training and validation accuracies for each epoch of training:"
      ]
    },
    {
      "cell_type": "code",
      "execution_count": 18,
      "id": "C2Fp6Se9rKuL",
      "metadata": {
        "colab": {
          "base_uri": "https://localhost:8080/",
          "height": 513
        },
        "id": "C2Fp6Se9rKuL",
        "outputId": "c02a4a1b-7989-4752-d646-c9417eb5dc6c"
      },
      "outputs": [
        {
          "output_type": "display_data",
          "data": {
            "text/plain": [
              "<Figure size 576x576 with 2 Axes>"
            ],
            "image/png": "[encoded data removed]"
          },
          "metadata": {
            "needs_background": "light"
          }
        }
      ],
      "source": [
        "# Plot the training and validation accuracies for each epoch\n",
        "acc = history.history['accuracy']\n",
        "val_acc = history.history['val_accuracy']\n",
        "\n",
        "loss = history.history['loss']\n",
        "val_loss = history.history['val_loss']\n",
        "\n",
        "plt.figure(figsize=(8, 8))\n",
        "plt.subplot(2, 1, 1)\n",
        "plt.plot(acc, label='Training Accuracy')\n",
        "plt.plot(val_acc, label='Validation Accuracy')\n",
        "plt.legend(loc='lower right')\n",
        "plt.ylabel('Accuracy')\n",
        "plt.ylim([min(plt.ylim()),0.9])\n",
        "plt.title('Training and Validation Accuracy')\n",
        "\n",
        "plt.subplot(2, 1, 2)\n",
        "plt.plot(loss, label='Training Loss')\n",
        "plt.plot(val_loss, label='Validation Loss')\n",
        "plt.legend(loc='upper right')\n",
        "plt.ylabel('Cross Entropy')\n",
        "plt.ylim([0,3.0])\n",
        "plt.title('Training and Validation Loss')\n",
        "plt.xlabel('epoch')\n",
        "plt.show()"
      ]
    },
    {
      "cell_type": "markdown",
      "id": "g-4-4i9U1a0s",
      "metadata": {
        "id": "g-4-4i9U1a0s"
      },
      "source": [
        "You will need to submit this notebook for grading. To download it, click on the `File` tab in the upper left corner of the screen then click on `Download` -> `Download .ipynb`. You can name it anything you want as long as it is a valid `.ipynb` (jupyter notebook) file."
      ]
    },
    {
      "cell_type": "markdown",
      "id": "7w54-pbB1W9r",
      "metadata": {
        "id": "7w54-pbB1W9r"
      },
      "source": [
        "**Congratulations on finishing this week's assignment!**\n",
        "\n",
        "You have successfully implemented a convolutional neural network that leverages a pre-trained network to help you solve the problem of classifying humans from horses.\n",
        "\n",
        "**Keep it up!**"
      ]
    },
    {
      "cell_type": "code",
      "execution_count": 19,
      "metadata": {
        "id": "SeVjZD2o7gWS"
      },
      "outputs": [],
      "source": [
        "#Checkpoint In the /output folder\n",
        "check_filepath = '/content/drive/MyDrive/best_model_lulc_effnet_m_adam.hdf5'\n",
        "# Keep only a single checkpoint, the best over test accuracy.\n",
        "checkpoint = tf.keras.callbacks.ModelCheckpoint(check_filepath, monitor='val_accuracy', verbose=1, save_best_only=True, mode='max')"
      ],
      "id": "SeVjZD2o7gWS"
    },
    {
      "cell_type": "code",
      "source": [
        "m.trainable = True\n",
        "\n",
        "m.compile(optimizer=tf.keras.optimizers.Adam(1e-4),  # Low learning rate\n",
        "          loss = 'categorical_crossentropy', \n",
        "          metrics = ['accuracy']\n",
        ")\n",
        "\n",
        "history_fine = m.fit(train_generator,\n",
        "                    validation_data = validation_generator,\n",
        "                    #batch_size = batch_size,\n",
        "                    initial_epoch = history.epoch[-1],\n",
        "                    #steps_per_epoch = num_barren_tr // batch_size,\n",
        "                    #validation_steps = num_barren_val // batch_size,\n",
        "                    epochs = 20,\n",
        "                    verbose = 1,\n",
        "                    callbacks=[checkpoint])"
      ],
      "metadata": {
        "colab": {
          "base_uri": "https://localhost:8080/"
        },
        "id": "IDmvTeItESpL",
        "outputId": "a9a4c66a-a11e-442c-e828-8bc2409c850f"
      },
      "id": "IDmvTeItESpL",
      "execution_count": null,
      "outputs": [
        {
          "output_type": "stream",
          "name": "stdout",
          "text": [
            "Epoch 5/20\n",
            "257/257 [==============================] - ETA: 0s - loss: 2.2917 - accuracy: 0.5177\n",
            "Epoch 5: val_accuracy improved from -inf to 0.74065, saving model to /content/drive/MyDrive/best_model_lulc_effnet_m_adam.hdf5\n",
            "257/257 [==============================] - 303s 1s/step - loss: 2.2917 - accuracy: 0.5177 - val_loss: 0.8341 - val_accuracy: 0.7407\n",
            "Epoch 6/20\n",
            "257/257 [==============================] - ETA: 0s - loss: 0.9543 - accuracy: 0.6918\n",
            "Epoch 6: val_accuracy improved from 0.74065 to 0.77125, saving model to /content/drive/MyDrive/best_model_lulc_effnet_m_adam.hdf5\n",
            "257/257 [==============================] - 266s 1s/step - loss: 0.9543 - accuracy: 0.6918 - val_loss: 0.6983 - val_accuracy: 0.7712\n",
            "Epoch 7/20\n",
            "257/257 [==============================] - ETA: 0s - loss: 0.6930 - accuracy: 0.7626\n",
            "Epoch 7: val_accuracy improved from 0.77125 to 0.79116, saving model to /content/drive/MyDrive/best_model_lulc_effnet_m_adam.hdf5\n",
            "257/257 [==============================] - 267s 1s/step - loss: 0.6930 - accuracy: 0.7626 - val_loss: 0.6220 - val_accuracy: 0.7912\n",
            "Epoch 8/20\n",
            "257/257 [==============================] - ETA: 0s - loss: 0.5942 - accuracy: 0.7949\n",
            "Epoch 8: val_accuracy improved from 0.79116 to 0.80233, saving model to /content/drive/MyDrive/best_model_lulc_effnet_m_adam.hdf5\n",
            "257/257 [==============================] - 267s 1s/step - loss: 0.5942 - accuracy: 0.7949 - val_loss: 0.5835 - val_accuracy: 0.8023\n",
            "Epoch 9/20\n",
            "257/257 [==============================] - ETA: 0s - loss: 0.5256 - accuracy: 0.8214\n",
            "Epoch 9: val_accuracy improved from 0.80233 to 0.82370, saving model to /content/drive/MyDrive/best_model_lulc_effnet_m_adam.hdf5\n",
            "257/257 [==============================] - 268s 1s/step - loss: 0.5256 - accuracy: 0.8214 - val_loss: 0.5467 - val_accuracy: 0.8237\n",
            "Epoch 10/20\n",
            "257/257 [==============================] - ETA: 0s - loss: 0.4697 - accuracy: 0.8366\n",
            "Epoch 10: val_accuracy improved from 0.82370 to 0.83147, saving model to /content/drive/MyDrive/best_model_lulc_effnet_m_adam.hdf5\n",
            "257/257 [==============================] - 269s 1s/step - loss: 0.4697 - accuracy: 0.8366 - val_loss: 0.5237 - val_accuracy: 0.8315\n",
            "Epoch 11/20\n",
            "227/257 [=========================>....] - ETA: 27s - loss: 0.4281 - accuracy: 0.8510"
          ]
        }
      ]
    },
    {
      "cell_type": "code",
      "execution_count": null,
      "metadata": {
        "id": "PpA8PlpQKygw"
      },
      "outputs": [],
      "source": [
        "acc += history_fine.history['accuracy']\n",
        "val_acc += history_fine.history['val_accuracy']\n",
        "\n",
        "loss += history_fine.history['loss']\n",
        "val_loss += history_fine.history['val_loss']"
      ],
      "id": "PpA8PlpQKygw"
    },
    {
      "cell_type": "code",
      "execution_count": null,
      "metadata": {
        "id": "chW103JUItdk",
        "colab": {
          "base_uri": "https://localhost:8080/",
          "height": 513
        },
        "outputId": "bd7a72bb-3559-4e67-8485-128738f4d437"
      },
      "outputs": [
        {
          "output_type": "display_data",
          "data": {
            "text/plain": [
              "<Figure size 576x576 with 2 Axes>"
            ],
            "image/png": "[encoded data removed]"
          },
          "metadata": {
            "needs_background": "light"
          }
        }
      ],
      "source": [
        "plt.figure(figsize=(8, 8))\n",
        "plt.subplot(2, 1, 1)\n",
        "plt.plot(acc, label='Training Accuracy')\n",
        "plt.plot(val_acc, label='Validation Accuracy')\n",
        "plt.ylim([0.4, 0.9])\n",
        "plt.plot([5,5],\n",
        "          plt.ylim(), label='Start Fine Tuning')\n",
        "plt.legend(loc='lower right')\n",
        "plt.title('Training and Validation Accuracy')\n",
        "\n",
        "plt.subplot(2, 1, 2)\n",
        "plt.plot(loss, label='Training Loss')\n",
        "plt.plot(val_loss, label='Validation Loss')\n",
        "plt.ylim([0, 2.0])\n",
        "plt.plot([initial_epochs-1,initial_epochs-1],\n",
        "         plt.ylim(), label='Start Fine Tuning')\n",
        "plt.legend(loc='upper right')\n",
        "plt.title('Training and Validation Loss')\n",
        "plt.xlabel('epoch')\n",
        "plt.show()"
      ],
      "id": "chW103JUItdk"
    },
    {
      "cell_type": "code",
      "execution_count": null,
      "metadata": {
        "id": "AYrMYbm9b1xF"
      },
      "outputs": [],
      "source": [
        "def test_generate(TEST_DIR):\n",
        "  test_datagen = ImageDataGenerator(\n",
        "      rescale=1./255)\n",
        "\n",
        "  # Pass in the appropriate arguments to the flow_from_directory method\n",
        "  test_generator = test_datagen.flow_from_directory(directory=TEST_DIR,\n",
        "                                                      class_mode='categorical',\n",
        "                                                      batch_size = 1,\n",
        "                                                      target_size=(img_width, img_height),\n",
        "                                                      shuffle = False,\n",
        "                                                      classes=['.'])\n",
        "  return test_generator"
      ],
      "id": "AYrMYbm9b1xF"
    },
    {
      "cell_type": "code",
      "execution_count": null,
      "metadata": {
        "id": "9WmDcFjXcC1H",
        "colab": {
          "base_uri": "https://localhost:8080/"
        },
        "outputId": "64f28fac-a1e2-47e0-c71f-42dd7ed6d858"
      },
      "outputs": [
        {
          "output_type": "stream",
          "name": "stdout",
          "text": [
            "Found 1618 images belonging to 1 classes.\n"
          ]
        }
      ],
      "source": [
        "test_generator = test_generate(test_dir)"
      ],
      "id": "9WmDcFjXcC1H"
    },
    {
      "cell_type": "code",
      "source": [
        "dictionary = {0 : 10, 1 : 11, 2 : 12, 3 : 13, 4 : 14, 5 : 15, 6 : 16, 7 : 17, 8 : 18, 9 : 19, 10 : 1, 11 : 20, 12 : 21, 13 : 22, 14 : 23, 15 : 24, 16 : 25, 17 : 26, 18 : 27, 19 : 28, 20 : 29, 21 : 2, 22 : 3, 23 : 4, 24 : 5, 25 : 6, 26 : 7, 27 : 8, 28 : 9}"
      ],
      "metadata": {
        "id": "wJokdSXM5iN9"
      },
      "execution_count": null,
      "outputs": [],
      "id": "wJokdSXM5iN9"
    },
    {
      "cell_type": "code",
      "execution_count": null,
      "metadata": {
        "id": "NVSWKkCUd_ew"
      },
      "outputs": [],
      "source": [
        "m.load_weights(check_filepath)\n",
        "\n",
        "predict_proba = m.predict(test_generator)\n",
        "predict = np.argmax(predict_proba, axis = 1)\n",
        "predict = np.vectorize(dictionary.get)(predict)"
      ],
      "id": "NVSWKkCUd_ew"
    },
    {
      "cell_type": "code",
      "execution_count": null,
      "metadata": {
        "id": "NbpcEm4DnS0F"
      },
      "outputs": [],
      "source": [
        "submission = pd.DataFrame()\n",
        "\n",
        "filenames = list()\n",
        "for filename in test_generator.filenames:\n",
        "  if filename.endswith(\".jpg\"):\n",
        "    filenames.append(filename[2:])\n",
        "submission[\"id.jpg\"] = filenames\n",
        "\n",
        "submission[\"label\"] = predict\n",
        "\n",
        "submission.to_csv(\"/content/drive/MyDrive/submission_effnet_m_adam.csv\", index = False)"
      ],
      "id": "NbpcEm4DnS0F"
    }
  ],
  "metadata": {
    "accelerator": "GPU",
    "colab": {
      "collapsed_sections": [],
      "name": "JDR_fine_EfficientNet_m_adam.ipynb",
      "provenance": []
    },
    "kernelspec": {
      "display_name": "Python 3",
      "language": "python",
      "name": "python3"
    },
    "language_info": {
      "codemirror_mode": {
        "name": "ipython",
        "version": 3
      },
      "file_extension": ".py",
      "mimetype": "text/x-python",
      "name": "python",
      "nbconvert_exporter": "python",
      "pygments_lexer": "ipython3",
      "version": "3.8.8"
    }
  },
  "nbformat": 4,
  "nbformat_minor": 5
}