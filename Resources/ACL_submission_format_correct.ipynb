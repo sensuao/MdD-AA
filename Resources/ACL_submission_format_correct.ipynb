{
  "cells": [
    {
      "cell_type": "markdown",
      "metadata": {
        "id": "FE7KNzPPVrVV"
      },
      "source": [
        "# Image classification"
      ],
      "id": "FE7KNzPPVrVV"
    },
    {
      "cell_type": "markdown",
      "metadata": {
        "id": "zF9uvbXNVrVY"
      },
      "source": [
        "## Import packages"
      ],
      "id": "zF9uvbXNVrVY"
    },
    {
      "cell_type": "code",
      "execution_count": 1,
      "metadata": {
        "id": "rtPGh2MAVrVa"
      },
      "outputs": [],
      "source": [
        "from __future__ import absolute_import, division, print_function, unicode_literals"
      ],
      "id": "rtPGh2MAVrVa"
    },
    {
      "cell_type": "markdown",
      "metadata": {
        "id": "Jlchl4x2VrVg"
      },
      "source": [
        "Import Tensorflow and the Keras classes needed to construct our model."
      ],
      "id": "Jlchl4x2VrVg"
    },
    {
      "cell_type": "code",
      "execution_count": 2,
      "metadata": {
        "id": "E82grprdYPI0"
      },
      "outputs": [],
      "source": [
        "try:\n",
        "  # %tensorflow_version only exists in Colab.\n",
        "  %tensorflow_version 2.x\n",
        "except Exception:\n",
        "  pass\n",
        "import tensorflow as tf"
      ],
      "id": "E82grprdYPI0"
    },
    {
      "cell_type": "code",
      "execution_count": 3,
      "metadata": {
        "id": "L1WtoaOHVrVh"
      },
      "outputs": [],
      "source": [
        "from tensorflow.keras.models import Sequential\n",
        "from tensorflow.keras.layers import Dense, Conv2D, Flatten, Dropout, MaxPooling2D\n",
        "from tensorflow.keras.preprocessing.image import ImageDataGenerator, load_img\n",
        "\n",
        "from tensorflow.keras import layers\n",
        "from tensorflow.keras import Model\n",
        "from tensorflow.keras.optimizers import RMSprop\n",
        "\n",
        "import os\n",
        "import zipfile\n",
        "\n",
        "import numpy as np\n",
        "import matplotlib.pyplot as plt"
      ],
      "id": "L1WtoaOHVrVh"
    },
    {
      "cell_type": "markdown",
      "metadata": {
        "id": "UZZI6lNkVrVm"
      },
      "source": [
        "## Load data"
      ],
      "id": "UZZI6lNkVrVm"
    },
    {
      "cell_type": "code",
      "execution_count": 4,
      "metadata": {
        "colab": {
          "base_uri": "https://localhost:8080/"
        },
        "id": "HCAjJLhr1fqC",
        "outputId": "80dd7757-6a54-4c45-91f1-631a955bff48"
      },
      "outputs": [
        {
          "output_type": "stream",
          "name": "stdout",
          "text": [
            "Mounted at /content/drive\n"
          ]
        }
      ],
      "source": [
        "from google.colab import drive\n",
        "drive.mount('/content/drive')"
      ],
      "id": "HCAjJLhr1fqC"
    },
    {
      "cell_type": "code",
      "execution_count": 5,
      "metadata": {
        "id": "DmYx9zPa25Mz"
      },
      "outputs": [],
      "source": [
        "train_local_zip = '/content/drive/MyDrive/lulc-tra-val.zip'\n",
        "zip_ref = zipfile.ZipFile(train_local_zip, 'r')\n",
        "zip_ref.extractall('/content/sample_data/lulc-tra-val')\n",
        "\n",
        "#val_local_zip = './validation-horse-or-human.zip'\n",
        "#zip_ref = zipfile.ZipFile(val_local_zip, 'r')\n",
        "#zip_ref.extractall('/tmp/validation')\n",
        "\n",
        "zip_ref.close()"
      ],
      "id": "DmYx9zPa25Mz"
    },
    {
      "cell_type": "code",
      "execution_count": 6,
      "metadata": {
        "id": "ly_AzZbb0diz"
      },
      "outputs": [],
      "source": [
        "PATH = '/content/sample_data/lulc-tra-val/lulc-classificatio'"
      ],
      "id": "ly_AzZbb0diz"
    },
    {
      "cell_type": "markdown",
      "metadata": {
        "id": "VpmywIlsVrVx"
      },
      "source": [
        "After extracting its contents, assign variables with the proper file path for the training and validation set."
      ],
      "id": "VpmywIlsVrVx"
    },
    {
      "cell_type": "code",
      "execution_count": 7,
      "metadata": {
        "id": "sRucI3QqVrVy"
      },
      "outputs": [],
      "source": [
        "train_dir = os.path.join(PATH, 'train')\n",
        "validation_dir = os.path.join(PATH, 'validation')"
      ],
      "id": "sRucI3QqVrVy"
    },
    {
      "cell_type": "code",
      "execution_count": 8,
      "metadata": {
        "id": "Utv3nryxVrV0"
      },
      "outputs": [],
      "source": [
        "# Directory with training horse pictures\n",
        "train_BarrenLands_dir = os.path.join(train_dir, '1_BarrenLands___jpeg')\n",
        "# Directory with training humans pictures\n",
        "train_MossAndLichen_dir = os.path.join(train_dir, '2_MossAndLichen_jpeg')\n",
        "# Directory with training humans pictures\n",
        "train_Grasslands_dir = os.path.join(train_dir, '3_Grasslands____jpeg')\n",
        "# Directory with training humans pictures\n",
        "train_ShrublandOpen_dir = os.path.join(train_dir, '4_ShrublandOpen_jpeg')\n",
        "# Directory with training humans pictures\n",
        "train_SrublandClose_dir = os.path.join(train_dir, '5_SrublandClose_jpeg')\n",
        "# Directory with training humans pictures\n",
        "train_ForestsOpDeBr_dir = os.path.join(train_dir, '6_ForestsOpDeBr_jpeg')\n",
        "# Directory with training humans pictures\n",
        "train_ForestsClDeBr_dir = os.path.join(train_dir, '7_ForestsClDeBr_jpeg')\n",
        "# Directory with training humans pictures\n",
        "train_ForestsDeDeBr_dir = os.path.join(train_dir, '8_ForestsDeDeBr_jpeg')\n",
        "# Directory with training humans pictures\n",
        "train_ForestsOpDeNe_dir = os.path.join(train_dir, '9_ForestsOpDeNe_jpeg')\n",
        "# Directory with training humans pictures\n",
        "train_ForestsClDeNe_dir = os.path.join(train_dir, '10_ForestsClDeNe_jpeg')\n",
        "# Directory with training humans pictures\n",
        "train_ForestsDeDeNe_dir = os.path.join(train_dir, '11_ForestsDeDeNe_jpeg')\n",
        "# Directory with training humans pictures\n",
        "train_ForestsOpEvBr_dir = os.path.join(train_dir, '12_ForestsOpEvBr_jpeg')\n",
        "# Directory with training humans pictures\n",
        "train_ForestsClEvBr_dir = os.path.join(train_dir, '13_ForestsClEvBr_jpeg')\n",
        "# Directory with training humans pictures\n",
        "train_ForestsDeEvBr_dir = os.path.join(train_dir, '14_ForestsDeEvBr_jpeg')\n",
        "# Directory with training humans pictures\n",
        "train_ForestsOpEvNe_dir = os.path.join(train_dir, '15_ForestsOpEvNe_jpeg')\n",
        "# Directory with training humans pictures\n",
        "train_ForestsClEvNe_dir = os.path.join(train_dir, '16_ForestsClEvNe_jpeg')\n",
        "# Directory with training humans pictures\n",
        "train_ForestsDeEvNe_dir = os.path.join(train_dir, '17_ForestsDeEvNe_jpeg')\n",
        "# Directory with training humans pictures\n",
        "train_WetlandMangro_dir = os.path.join(train_dir, '18_WetlandMangro_jpeg')\n",
        "# Directory with training humans pictures\n",
        "train_WetlandSwamps_dir = os.path.join(train_dir, '19_WetlandSwamps_jpeg')\n",
        "# Directory with training humans pictures\n",
        "train_WetlandMarshl_dir = os.path.join(train_dir, '20_WetlandMarshl_jpeg')\n",
        "# Directory with training humans pictures\n",
        "train_WaterBodyMari_dir = os.path.join(train_dir, '21_WaterBodyMari_jpeg')\n",
        "# Directory with training humans pictures\n",
        "train_WaterBodyCont_dir = os.path.join(train_dir, '22_WaterBodyCont_jpeg')\n",
        "# Directory with training humans pictures\n",
        "train_PermanentSnow_dir = os.path.join(train_dir, '23_PermanentSnow_jpeg')\n",
        "# Directory with training humans pictures\n",
        "train_CropSeasWater_dir = os.path.join(train_dir, '24_CropSeasWater_jpeg')\n",
        "# Directory with training humans pictures\n",
        "train_CropCereaIrri_dir = os.path.join(train_dir, '25_CropCereaIrri_jpeg')\n",
        "# Directory with training humans pictures\n",
        "train_CropCereaRain_dir = os.path.join(train_dir, '26_CropCereaRain_jpeg')\n",
        "# Directory with training humans pictures\n",
        "train_CropBroadIrri_dir = os.path.join(train_dir, '27_CropBroadIrri_jpeg')\n",
        "# Directory with training humans pictures\n",
        "train_CropBroadRain_dir = os.path.join(train_dir, '28_CropBroadRain_jpeg')\n",
        "# Directory with training humans pictures\n",
        "train_UrbanBlUpArea_dir = os.path.join(train_dir, '29_UrbanBlUpArea_jpeg')"
      ],
      "id": "Utv3nryxVrV0"
    },
    {
      "cell_type": "code",
      "execution_count": 9,
      "metadata": {
        "colab": {
          "base_uri": "https://localhost:8080/",
          "height": 286
        },
        "id": "0gjrecFt5Usg",
        "outputId": "52cbc3f8-1223-4424-f200-1459342520ea"
      },
      "outputs": [
        {
          "output_type": "stream",
          "name": "stdout",
          "text": [
            "Sample BarrenLands image:\n"
          ]
        },
        {
          "output_type": "display_data",
          "data": {
            "text/plain": [
              "<Figure size 432x288 with 1 Axes>"
            ],
            "image/png": "[encoded data removed]"
          },
          "metadata": {
            "needs_background": "light"
          }
        }
      ],
      "source": [
        "print(\"Sample BarrenLands image:\")\n",
        "plt.imshow(load_img(f\"{os.path.join(train_BarrenLands_dir, os.listdir(train_BarrenLands_dir)[0])}\"))\n",
        "plt.show()"
      ],
      "id": "0gjrecFt5Usg"
    },
    {
      "cell_type": "code",
      "execution_count": 10,
      "metadata": {
        "id": "n_E0pLcS5oYo"
      },
      "outputs": [],
      "source": [
        "# Directory with validationing horse pictures\n",
        "validation_BarrenLands_dir = os.path.join(validation_dir, '1_BarrenLands___jpeg')\n",
        "# Directory with validationing humans pictures\n",
        "validation_MossAndLichen_dir = os.path.join(validation_dir, '2_MossAndLichen_jpeg')\n",
        "# Directory with validationing humans pictures\n",
        "validation_Grasslands_dir = os.path.join(validation_dir, '3_Grasslands____jpeg')\n",
        "# Directory with validationing humans pictures\n",
        "validation_ShrublandOpen_dir = os.path.join(validation_dir, '4_ShrublandOpen_jpeg')\n",
        "# Directory with validationing humans pictures\n",
        "validation_SrublandClose_dir = os.path.join(validation_dir, '5_SrublandClose_jpeg')\n",
        "# Directory with validationing humans pictures\n",
        "validation_ForestsOpDeBr_dir = os.path.join(validation_dir, '6_ForestsOpDeBr_jpeg')\n",
        "# Directory with validationing humans pictures\n",
        "validation_ForestsClDeBr_dir = os.path.join(validation_dir, '7_ForestsClDeBr_jpeg')\n",
        "# Directory with validationing humans pictures\n",
        "validation_ForestsDeDeBr_dir = os.path.join(validation_dir, '8_ForestsDeDeBr_jpeg')\n",
        "# Directory with validationing humans pictures\n",
        "validation_ForestsOpDeNe_dir = os.path.join(validation_dir, '9_ForestsOpDeNe_jpeg')\n",
        "# Directory with validationing humans pictures\n",
        "validation_ForestsClDeNe_dir = os.path.join(validation_dir, '10_ForestsClDeNe_jpeg')\n",
        "# Directory with validationing humans pictures\n",
        "validation_ForestsDeDeNe_dir = os.path.join(validation_dir, '11_ForestsDeDeNe_jpeg')\n",
        "# Directory with validationing humans pictures\n",
        "validation_ForestsOpEvBr_dir = os.path.join(validation_dir, '12_ForestsOpEvBr_jpeg')\n",
        "# Directory with validationing humans pictures\n",
        "validation_ForestsClEvBr_dir = os.path.join(validation_dir, '13_ForestsClEvBr_jpeg')\n",
        "# Directory with validationing humans pictures\n",
        "validation_ForestsDeEvBr_dir = os.path.join(validation_dir, '14_ForestsDeEvBr_jpeg')\n",
        "# Directory with validationing humans pictures\n",
        "validation_ForestsOpEvNe_dir = os.path.join(validation_dir, '15_ForestsOpEvNe_jpeg')\n",
        "# Directory with validationing humans pictures\n",
        "validation_ForestsClEvNe_dir = os.path.join(validation_dir, '16_ForestsClEvNe_jpeg')\n",
        "# Directory with validationing humans pictures\n",
        "validation_ForestsDeEvNe_dir = os.path.join(validation_dir, '17_ForestsDeEvNe_jpeg')\n",
        "# Directory with validationing humans pictures\n",
        "validation_WetlandMangro_dir = os.path.join(validation_dir, '18_WetlandMangro_jpeg')\n",
        "# Directory with validationing humans pictures\n",
        "validation_WetlandSwamps_dir = os.path.join(validation_dir, '19_WetlandSwamps_jpeg')\n",
        "# Directory with validationing humans pictures\n",
        "validation_WetlandMarshl_dir = os.path.join(validation_dir, '20_WetlandMarshl_jpeg')\n",
        "# Directory with validationing humans pictures\n",
        "validation_WaterBodyMari_dir = os.path.join(validation_dir, '21_WaterBodyMari_jpeg')\n",
        "# Directory with validationing humans pictures\n",
        "validation_WaterBodyCont_dir = os.path.join(validation_dir, '22_WaterBodyCont_jpeg')\n",
        "# Directory with validationing humans pictures\n",
        "validation_PermanentSnow_dir = os.path.join(validation_dir, '23_PermanentSnow_jpeg')\n",
        "# Directory with validationing humans pictures\n",
        "validation_CropSeasWater_dir = os.path.join(validation_dir, '24_CropSeasWater_jpeg')\n",
        "# Directory with validationing humans pictures\n",
        "validation_CropCereaIrri_dir = os.path.join(validation_dir, '25_CropCereaIrri_jpeg')\n",
        "# Directory with validationing humans pictures\n",
        "validation_CropCereaRain_dir = os.path.join(validation_dir, '26_CropCereaRain_jpeg')\n",
        "# Directory with validationing humans pictures\n",
        "validation_CropBroadIrri_dir = os.path.join(validation_dir, '27_CropBroadIrri_jpeg')\n",
        "# Directory with validationing humans pictures\n",
        "validation_CropBroadRain_dir = os.path.join(validation_dir, '28_CropBroadRain_jpeg')\n",
        "# Directory with validationing humans pictures\n",
        "validation_UrbanBlUpArea_dir = os.path.join(validation_dir, '29_UrbanBlUpArea_jpeg')"
      ],
      "id": "n_E0pLcS5oYo"
    },
    {
      "cell_type": "code",
      "execution_count": 11,
      "metadata": {
        "colab": {
          "base_uri": "https://localhost:8080/",
          "height": 286
        },
        "id": "w7eg5OZQAR9I",
        "outputId": "4a5a0821-ca3e-48d0-de41-849462c2d11e"
      },
      "outputs": [
        {
          "output_type": "stream",
          "name": "stdout",
          "text": [
            "Sample BarrenLands image:\n"
          ]
        },
        {
          "output_type": "display_data",
          "data": {
            "text/plain": [
              "<Figure size 432x288 with 1 Axes>"
            ],
            "image/png": "[encoded data removed]"
          },
          "metadata": {
            "needs_background": "light"
          }
        }
      ],
      "source": [
        "print(\"Sample BarrenLands image:\")\n",
        "plt.imshow(load_img(f\"{os.path.join(validation_BarrenLands_dir, os.listdir(validation_BarrenLands_dir)[0])}\"))\n",
        "plt.show()"
      ],
      "id": "w7eg5OZQAR9I"
    },
    {
      "cell_type": "markdown",
      "metadata": {
        "id": "ZdrHHTy2VrV3"
      },
      "source": [
        "### Understand the data"
      ],
      "id": "ZdrHHTy2VrV3"
    },
    {
      "cell_type": "code",
      "execution_count": 12,
      "metadata": {
        "colab": {
          "base_uri": "https://localhost:8080/"
        },
        "id": "vc4u8e9hVrV4",
        "outputId": "b9201969-3bb9-4713-8600-0b22af8f0088"
      },
      "outputs": [
        {
          "output_type": "stream",
          "name": "stdout",
          "text": [
            "total training barren images: 283\n",
            "total validation barren images: 71\n"
          ]
        }
      ],
      "source": [
        "num_barren_tr = len(os.listdir(train_BarrenLands_dir))\n",
        "num_barren_val = len(os.listdir(validation_BarrenLands_dir))\n",
        "\n",
        "print('total training barren images:', num_barren_tr)\n",
        "print('total validation barren images:', num_barren_val)"
      ],
      "id": "vc4u8e9hVrV4"
    },
    {
      "cell_type": "markdown",
      "metadata": {
        "id": "8Lp-0ejxOtP1"
      },
      "source": [
        "For convenience, set up variables to use while pre-processing the dataset and training the network."
      ],
      "id": "8Lp-0ejxOtP1"
    },
    {
      "cell_type": "code",
      "execution_count": 13,
      "metadata": {
        "id": "3NqNselLVrWA"
      },
      "outputs": [],
      "source": [
        "batch_size = 32\n",
        "epochs = 15\n",
        "img_height = 160\n",
        "img_width = 160"
      ],
      "id": "3NqNselLVrWA"
    },
    {
      "cell_type": "markdown",
      "metadata": {
        "id": "6HcE1TSqNRY2"
      },
      "source": [
        "## Training and Validation Generators\n",
        "\n",
        "Now that you know the images you are dealing with, it is time for you to code the generators that will fed these images to your Network. For this, complete the `train_val_generators` function below:\n",
        "\n",
        "**Important Note:** The images have a resolution of 300x300 but the `flow_from_directory` method you will use allows you to set a target resolution. In this case, **set a `target_size` of (150, 150)**. This will heavily lower the number of trainable parameters in your final network, yielding much quicker training times without compromising the accuracy!"
      ],
      "id": "6HcE1TSqNRY2"
    },
    {
      "cell_type": "code",
      "execution_count": 14,
      "metadata": {
        "cellView": "code",
        "id": "AX5Q3NL_FXMT"
      },
      "outputs": [],
      "source": [
        "# GRADED FUNCTION: train_val_generators\n",
        "def train_val_generators(TRAINING_DIR, VALIDATION_DIR):\n",
        "  ### START CODE HERE\n",
        "\n",
        "  # Instantiate the ImageDataGenerator class \n",
        "  # Don't forget to normalize pixel values and set arguments to augment the images \n",
        "  train_datagen = ImageDataGenerator(\n",
        "      rescale=1./255,\n",
        "      rotation_range=40,\n",
        "      width_shift_range=0.2,\n",
        "      height_shift_range=0.2,\n",
        "      shear_range=0.2,\n",
        "      zoom_range=0.2,\n",
        "      horizontal_flip=True,\n",
        "      fill_mode='nearest')\n",
        "\n",
        "  # Pass in the appropriate arguments to the flow_from_directory method\n",
        "  train_generator = train_datagen.flow_from_directory(directory=TRAINING_DIR,\n",
        "                                                      batch_size=32, \n",
        "                                                      class_mode='categorical',\n",
        "                                                      target_size=(150, 150))\n",
        "\n",
        "  # Instantiate the ImageDataGenerator class (don't forget to set the rescale argument)\n",
        "  # Remember that validation data should not be augmented\n",
        "  validation_datagen = ImageDataGenerator(\n",
        "      rescale=1./255,\n",
        "      )\n",
        "\n",
        "  # Pass in the appropriate arguments to the flow_from_directory method\n",
        "  validation_generator = validation_datagen.flow_from_directory(directory=VALIDATION_DIR,\n",
        "                                                                batch_size=32, \n",
        "                                                                class_mode='categorical',\n",
        "                                                                target_size=(150, 150))\n",
        "  ### END CODE HERE\n",
        "  return train_generator, validation_generator\n"
      ],
      "id": "AX5Q3NL_FXMT"
    },
    {
      "cell_type": "code",
      "execution_count": 15,
      "metadata": {
        "colab": {
          "base_uri": "https://localhost:8080/"
        },
        "id": "8FLUUqMKFwVR",
        "outputId": "65bfd657-77b0-44cb-9f8c-7f778092a45b"
      },
      "outputs": [
        {
          "output_type": "stream",
          "name": "stdout",
          "text": [
            "Found 8207 images belonging to 29 classes.\n",
            "Found 2059 images belonging to 29 classes.\n"
          ]
        }
      ],
      "source": [
        "# Test your generators\n",
        "train_generator, validation_generator = train_val_generators(train_dir, validation_dir)"
      ],
      "id": "8FLUUqMKFwVR"
    },
    {
      "cell_type": "markdown",
      "metadata": {
        "id": "Izx51Ju1rXwd"
      },
      "source": [
        "## Transfer learning - Create the pre-trained model\n",
        "\n",
        "Download the `inception V3` weights into the `/tmp/` directory:"
      ],
      "id": "Izx51Ju1rXwd"
    },
    {
      "cell_type": "code",
      "execution_count": 16,
      "metadata": {
        "colab": {
          "base_uri": "https://localhost:8080/"
        },
        "id": "-lEzPAqxrPcU",
        "outputId": "aea851ab-523a-4ec0-e53b-a375e65a9b5f"
      },
      "outputs": [
        {
          "output_type": "stream",
          "name": "stdout",
          "text": [
            "--2022-03-28 18:16:37--  https://storage.googleapis.com/mledu-datasets/inception_v3_weights_tf_dim_ordering_tf_kernels_notop.h5\n",
            "Resolving storage.googleapis.com (storage.googleapis.com)... 172.253.117.128, 74.125.135.128, 74.125.195.128, ...\n",
            "Connecting to storage.googleapis.com (storage.googleapis.com)|172.253.117.128|:443... connected.\n",
            "HTTP request sent, awaiting response... 200 OK\n",
            "Length: 87910968 (84M) [application/x-hdf]\n",
            "Saving to: ‘/tmp/inception_v3_weights_tf_dim_ordering_tf_kernels_notop.h5’\n",
            "\n",
            "/tmp/inception_v3_w 100%[===================>]  83.84M   270MB/s    in 0.3s    \n",
            "\n",
            "2022-03-28 18:16:38 (270 MB/s) - ‘/tmp/inception_v3_weights_tf_dim_ordering_tf_kernels_notop.h5’ saved [87910968/87910968]\n",
            "\n"
          ]
        }
      ],
      "source": [
        "# Download the inception v3 weights\n",
        "!wget --no-check-certificate \\\n",
        "    https://storage.googleapis.com/mledu-datasets/inception_v3_weights_tf_dim_ordering_tf_kernels_notop.h5 \\\n",
        "    -O /tmp/inception_v3_weights_tf_dim_ordering_tf_kernels_notop.h5"
      ],
      "id": "-lEzPAqxrPcU"
    },
    {
      "cell_type": "markdown",
      "metadata": {
        "id": "_zlXNulm9USZ"
      },
      "source": [
        "Now load the `InceptionV3` model and save the path to the weights you just downloaded:"
      ],
      "id": "_zlXNulm9USZ"
    },
    {
      "cell_type": "code",
      "execution_count": 17,
      "metadata": {
        "id": "zfmRpsMf7E3-"
      },
      "outputs": [],
      "source": [
        "# Import the inception model  \n",
        "from tensorflow.keras.applications.inception_v3 import InceptionV3\n",
        "\n",
        "# Create an instance of the inception model from the local pre-trained weights\n",
        "local_weights_file = '/tmp/inception_v3_weights_tf_dim_ordering_tf_kernels_notop.h5'"
      ],
      "id": "zfmRpsMf7E3-"
    },
    {
      "cell_type": "markdown",
      "metadata": {
        "id": "ZPQb0PkT9_3w"
      },
      "source": [
        "Complete the `create_pre_trained_model` function below. You should specify the correct `input_shape` for the model (remember that you set a new resolution for the images instead of the native 300x300) and make all of the layers non-trainable:"
      ],
      "id": "ZPQb0PkT9_3w"
    },
    {
      "cell_type": "code",
      "execution_count": 18,
      "metadata": {
        "cellView": "code",
        "id": "x2JnQ6m8r5oe"
      },
      "outputs": [],
      "source": [
        "# GRADED FUNCTION: create_pre_trained_model\n",
        "def create_pre_trained_model(local_weights_file):\n",
        "  ### START CODE HERE\n",
        "  pre_trained_model = InceptionV3(input_shape = (img_width, img_height, 3),\n",
        "                                  include_top = False, \n",
        "                                  weights = None) \n",
        "\n",
        "  pre_trained_model.load_weights(local_weights_file)\n",
        "\n",
        "  # Make all the layers in the pre-trained model non-trainable\n",
        "  for layer in pre_trained_model.layers:\n",
        "     layer.trainable = False\n",
        "\n",
        "  ### END CODE HERE\n",
        "\n",
        "  return pre_trained_model\n",
        "  "
      ],
      "id": "x2JnQ6m8r5oe"
    },
    {
      "cell_type": "markdown",
      "metadata": {
        "id": "phE00SCr-RCT"
      },
      "source": [
        "Check that everything went well by comparing the last few rows of the model summary to the expected output:"
      ],
      "id": "phE00SCr-RCT"
    },
    {
      "cell_type": "code",
      "execution_count": 19,
      "metadata": {
        "id": "ve7eh9iztT4q"
      },
      "outputs": [],
      "source": [
        "pre_trained_model = create_pre_trained_model(local_weights_file)\n",
        "\n",
        "# Print the model summary\n",
        "#pre_trained_model.summary()"
      ],
      "id": "ve7eh9iztT4q"
    },
    {
      "cell_type": "markdown",
      "metadata": {
        "id": "4cAY2gQytr0-"
      },
      "source": [
        "**Expected Output:**\n",
        "```\n",
        "batch_normalization_v1_281 (Bat (None, 3, 3, 192)    576         conv2d_281[0][0]                 \n",
        "__________________________________________________________________________________________________\n",
        "activation_273 (Activation)     (None, 3, 3, 320)    0           batch_normalization_v1_273[0][0] \n",
        "__________________________________________________________________________________________________\n",
        "mixed9_1 (Concatenate)          (None, 3, 3, 768)    0           activation_275[0][0]             \n",
        "                                                                activation_276[0][0]             \n",
        "__________________________________________________________________________________________________\n",
        "concatenate_5 (Concatenate)     (None, 3, 3, 768)    0           activation_279[0][0]             \n",
        "                                                                activation_280[0][0]             \n",
        "__________________________________________________________________________________________________\n",
        "activation_281 (Activation)     (None, 3, 3, 192)    0           batch_normalization_v1_281[0][0] \n",
        "__________________________________________________________________________________________________\n",
        "mixed10 (Concatenate)           (None, 3, 3, 2048)   0           activation_273[0][0]             \n",
        "                                                                mixed9_1[0][0]                   \n",
        "                                                                concatenate_5[0][0]              \n",
        "                                                                activation_281[0][0]             \n",
        "==================================================================================================\n",
        "Total params: 21,802,784\n",
        "Trainable params: 0\n",
        "Non-trainable params: 21,802,784\n",
        "\n",
        "\n",
        "```"
      ],
      "id": "4cAY2gQytr0-"
    },
    {
      "cell_type": "markdown",
      "metadata": {
        "id": "MRHkV9jo-hkh"
      },
      "source": [
        "To check that all the layers in the model were set to be non-trainable, you can also run the cell below:"
      ],
      "id": "MRHkV9jo-hkh"
    },
    {
      "cell_type": "code",
      "execution_count": 20,
      "metadata": {
        "colab": {
          "base_uri": "https://localhost:8080/"
        },
        "id": "VASOaB8xDbhU",
        "outputId": "3fa95cf7-bbe8-4774-cdab-66fad35ea761"
      },
      "outputs": [
        {
          "output_type": "stream",
          "name": "stdout",
          "text": [
            "There are 21,802,784 total parameters in this model.\n",
            "There are 0 trainable parameters in this model.\n"
          ]
        }
      ],
      "source": [
        "total_params = pre_trained_model.count_params()\n",
        "num_trainable_params = sum([w.shape.num_elements() for w in pre_trained_model.trainable_weights])\n",
        "\n",
        "print(f\"There are {total_params:,} total parameters in this model.\")\n",
        "print(f\"There are {num_trainable_params:,} trainable parameters in this model.\")"
      ],
      "id": "VASOaB8xDbhU"
    },
    {
      "cell_type": "markdown",
      "metadata": {
        "id": "mRioO7FH5a8I"
      },
      "source": [
        "**Expected Output:**\n",
        "```\n",
        "There are 21,802,784 total parameters in this model.\n",
        "There are 0 trainable parameters in this model.\n",
        "```"
      ],
      "id": "mRioO7FH5a8I"
    },
    {
      "cell_type": "markdown",
      "metadata": {
        "id": "dFtwDyKj-4GR"
      },
      "source": [
        "## Creating callbacks for later\n",
        "\n",
        "You have already worked with callbacks in the first course of this specialization so the callback to stop training once an accuracy of 99.9% is reached, is provided for you:"
      ],
      "id": "dFtwDyKj-4GR"
    },
    {
      "cell_type": "code",
      "execution_count": 21,
      "metadata": {
        "id": "SeVjZD2o7gWS"
      },
      "outputs": [],
      "source": [
        "# Define a Callback class that stops training once accuracy reaches 99.9%\n",
        "class myCallback(tf.keras.callbacks.Callback):\n",
        "  def on_epoch_end(self, epoch, logs={}):\n",
        "    if(logs.get('accuracy')>0.999):\n",
        "      print(\"\\nReached 99.9% accuracy so cancelling training!\")\n",
        "      self.model.stop_training = True"
      ],
      "id": "SeVjZD2o7gWS"
    },
    {
      "cell_type": "markdown",
      "metadata": {
        "id": "lHZnFl-5_p3a"
      },
      "source": [
        "## Pipelining the pre-trained model with your own\n",
        "\n",
        "Now that the pre-trained model is ready, you need to \"glue\" it to your own model to solve the task at hand.\n",
        "\n",
        "For this you will need the last output of the pre-trained model, since this will be the input for your own. Complete the `output_of_last_layer` function below.\n",
        "\n",
        "**Note:** For grading purposes use the `mixed7` layer as the last layer of the pre-trained model. However, after submitting feel free to come back here and play around with this."
      ],
      "id": "lHZnFl-5_p3a"
    },
    {
      "cell_type": "code",
      "execution_count": 22,
      "metadata": {
        "id": "CFsUlwdfs_wg"
      },
      "outputs": [],
      "source": [
        "# GRADED FUNCTION: output_of_last_layer\n",
        "def output_of_last_layer(pre_trained_model):\n",
        "  ### START CODE HERE\n",
        "  last_desired_layer = pre_trained_model.get_layer('mixed9')\n",
        "  print('last layer output shape: ', last_desired_layer.output_shape)\n",
        "  last_output = last_desired_layer.output\n",
        "  print('last layer output: ', last_output)\n",
        "  ### END CODE HERE\n",
        "\n",
        "  return last_output\n"
      ],
      "id": "CFsUlwdfs_wg"
    },
    {
      "cell_type": "markdown",
      "metadata": {
        "id": "13AEzKG2A6_J"
      },
      "source": [
        "Check that everything works as expected:"
      ],
      "id": "13AEzKG2A6_J"
    },
    {
      "cell_type": "code",
      "execution_count": 23,
      "metadata": {
        "colab": {
          "base_uri": "https://localhost:8080/"
        },
        "id": "zOJPUtMN6PHo",
        "outputId": "4d61b11d-fcc2-4708-bcaf-8f41f001dee2"
      },
      "outputs": [
        {
          "output_type": "stream",
          "name": "stdout",
          "text": [
            "last layer output shape:  (None, 3, 3, 2048)\n",
            "last layer output:  KerasTensor(type_spec=TensorSpec(shape=(None, 3, 3, 2048), dtype=tf.float32, name=None), name='mixed9/concat:0', description=\"created by layer 'mixed9'\")\n"
          ]
        }
      ],
      "source": [
        "last_output = output_of_last_layer(pre_trained_model)"
      ],
      "id": "zOJPUtMN6PHo"
    },
    {
      "cell_type": "markdown",
      "metadata": {
        "id": "XqIWKZ_h7CuY"
      },
      "source": [
        "**Expected Output (if `mixed7` layer was used):**\n",
        "```\n",
        "last layer output shape:  (None, 7, 7, 768)\n",
        "last layer output:  KerasTensor(type_spec=TensorSpec(shape=(None, 7, 7, 768), dtype=tf.float32, name=None), name='mixed7/concat:0', description=\"created by layer 'mixed7'\")\n",
        "```"
      ],
      "id": "XqIWKZ_h7CuY"
    },
    {
      "cell_type": "markdown",
      "metadata": {
        "id": "0Rp-J6JuwJTq"
      },
      "source": [
        "Now you will create the final model by adding some additional layers on top of the pre-trained model.\n",
        "\n",
        "Complete the `create_final_model` function below. You will need to use Tensorflow's [Functional API](https://www.tensorflow.org/guide/keras/functional) for this since the pretrained model has been created using it. \n",
        "\n",
        "Let's double check this first:"
      ],
      "id": "0Rp-J6JuwJTq"
    },
    {
      "cell_type": "code",
      "execution_count": 24,
      "metadata": {
        "colab": {
          "base_uri": "https://localhost:8080/"
        },
        "id": "cKQknB4j7K9y",
        "outputId": "1d549de2-8bd3-4dee-ff80-e832bf5b18d0"
      },
      "outputs": [
        {
          "output_type": "stream",
          "name": "stdout",
          "text": [
            "The pretrained model has type: <class 'keras.engine.functional.Functional'>\n"
          ]
        }
      ],
      "source": [
        "# Print the type of the pre-trained model\n",
        "print(f\"The pretrained model has type: {type(pre_trained_model)}\")"
      ],
      "id": "cKQknB4j7K9y"
    },
    {
      "cell_type": "markdown",
      "metadata": {
        "id": "Kt7AU7jP7LW9"
      },
      "source": [
        "To create the final model, you will use Keras' Model class by defining the appropriate inputs and outputs as described in the first way to instantiate a Model in the [docs](https://www.tensorflow.org/api_docs/python/tf/keras/Model).\n",
        "\n",
        "Note that you can get the input from any existing model by using its `input` attribute and by using the Funcional API you can use the last layer directly as output when creating the final model."
      ],
      "id": "Kt7AU7jP7LW9"
    },
    {
      "cell_type": "code",
      "execution_count": 25,
      "metadata": {
        "cellView": "code",
        "id": "BMXb913pbvFg"
      },
      "outputs": [],
      "source": [
        "# GRADED FUNCTION: create_final_model\n",
        "def create_final_model(pre_trained_model, last_output):\n",
        "  # Flatten the output layer to 1 dimension\n",
        "  x = layers.Flatten()(last_output)\n",
        "\n",
        "  ### START CODE HERE\n",
        "\n",
        "  # Add a fully connected layer with 1024 hidden units and ReLU activation\n",
        "  x = layers.Dense(1024, activation='relu')(x)\n",
        "  # Add a dropout rate of 0.2\n",
        "  x = layers.Dropout(0.2)(x)   \n",
        "  # Add a final sigmoid layer for classification\n",
        "  x = layers.Dense  (29, activation='softmax')(x)\n",
        "\n",
        "\n",
        "  # Create the complete model by using the Model class\n",
        "  model = Model(inputs=pre_trained_model.input, outputs=x)\n",
        "\n",
        "  # Compile the model\n",
        "  model.compile(optimizer = 'rmsprop', \n",
        "                loss = 'categorical_crossentropy', \n",
        "                metrics = ['accuracy'])\n",
        "  ### END CODE HERE\n",
        "  \n",
        "  return model\n"
      ],
      "id": "BMXb913pbvFg"
    },
    {
      "cell_type": "code",
      "execution_count": 26,
      "metadata": {
        "colab": {
          "base_uri": "https://localhost:8080/"
        },
        "id": "cL6ga5Z1783H",
        "outputId": "685d41db-282e-4499-a7d0-b1bd12af9ecc"
      },
      "outputs": [
        {
          "output_type": "stream",
          "name": "stdout",
          "text": [
            "There are 34,627,837 total parameters in this model.\n",
            "There are 18,905,117 trainable parameters in this model.\n"
          ]
        }
      ],
      "source": [
        "# Save your model in a variable\n",
        "model = create_final_model(pre_trained_model, last_output)\n",
        "\n",
        "# Inspect parameters\n",
        "total_params = model.count_params()\n",
        "num_trainable_params = sum([w.shape.num_elements() for w in model.trainable_weights])\n",
        "\n",
        "print(f\"There are {total_params:,} total parameters in this model.\")\n",
        "print(f\"There are {num_trainable_params:,} trainable parameters in this model.\")"
      ],
      "id": "cL6ga5Z1783H"
    },
    {
      "cell_type": "markdown",
      "metadata": {
        "id": "J4d3zlcQDrvm"
      },
      "source": [
        "**Expected Output:**\n",
        "```\n",
        "There are 47,512,481 total parameters in this model.\n",
        "There are 38,537,217 trainable parameters in this model.\n",
        "```"
      ],
      "id": "J4d3zlcQDrvm"
    },
    {
      "cell_type": "markdown",
      "metadata": {
        "id": "_eqwHj5xEBZ7"
      },
      "source": [
        "Wow, that is a lot of parameters!\n",
        "\n",
        "After submitting your assignment later, try re-running this notebook but use the original resolution of 300x300, you will be surprised to see how many more parameters are for that case.\n",
        "\n",
        "Now train the model:"
      ],
      "id": "_eqwHj5xEBZ7"
    },
    {
      "cell_type": "code",
      "execution_count": 27,
      "metadata": {
        "colab": {
          "base_uri": "https://localhost:8080/"
        },
        "id": "Blhq2MAUeyGA",
        "scrolled": true,
        "outputId": "2cdd000a-7a8b-47e1-9d96-66d0b3819d40"
      },
      "outputs": [
        {
          "output_type": "stream",
          "name": "stdout",
          "text": [
            "Epoch 1/10\n",
            "257/257 [==============================] - 75s 240ms/step - loss: 2.2060 - accuracy: 0.3988 - val_loss: 1.6939 - val_accuracy: 0.4619\n",
            "Epoch 2/10\n",
            "257/257 [==============================] - 59s 230ms/step - loss: 1.4759 - accuracy: 0.5210 - val_loss: 1.5199 - val_accuracy: 0.5153\n",
            "Epoch 3/10\n",
            "257/257 [==============================] - 59s 231ms/step - loss: 1.3545 - accuracy: 0.5632 - val_loss: 1.4263 - val_accuracy: 0.5488\n",
            "Epoch 4/10\n",
            "257/257 [==============================] - 59s 230ms/step - loss: 1.2934 - accuracy: 0.5791 - val_loss: 1.4702 - val_accuracy: 0.5420\n",
            "Epoch 5/10\n",
            "257/257 [==============================] - 59s 229ms/step - loss: 1.2317 - accuracy: 0.6019 - val_loss: 1.6733 - val_accuracy: 0.5270\n",
            "Epoch 6/10\n",
            "257/257 [==============================] - 59s 230ms/step - loss: 1.2215 - accuracy: 0.6092 - val_loss: 1.5130 - val_accuracy: 0.5663\n",
            "Epoch 7/10\n",
            "257/257 [==============================] - 59s 229ms/step - loss: 1.2059 - accuracy: 0.6122 - val_loss: 1.3071 - val_accuracy: 0.6115\n",
            "Epoch 8/10\n",
            "257/257 [==============================] - 59s 228ms/step - loss: 1.1807 - accuracy: 0.6231 - val_loss: 1.5567 - val_accuracy: 0.5595\n",
            "Epoch 9/10\n",
            "257/257 [==============================] - 59s 230ms/step - loss: 1.1856 - accuracy: 0.6256 - val_loss: 1.5000 - val_accuracy: 0.5872\n",
            "Epoch 10/10\n",
            "257/257 [==============================] - 59s 230ms/step - loss: 1.1830 - accuracy: 0.6223 - val_loss: 1.7407 - val_accuracy: 0.5551\n"
          ]
        }
      ],
      "source": [
        "# Run this and see how many epochs it should take before the callback\n",
        "# fires, and stops training at 99.9% accuracy\n",
        "# (It should take a few epochs)\n",
        "callbacks = myCallback()\n",
        "history = model.fit(train_generator,\n",
        "                    validation_data = validation_generator,\n",
        "                    epochs = 10,\n",
        "                    verbose = 1)"
      ],
      "id": "Blhq2MAUeyGA"
    },
    {
      "cell_type": "markdown",
      "metadata": {
        "id": "Y94djl4t0sK5"
      },
      "source": [
        "The training should have stopped after less than 10 epochs and it should have reached an accuracy over 99,9% (firing the callback). This happened so quickly because of the pre-trained model you used, which already contained information to classify humans from horses. Really cool!\n",
        "\n",
        "Now take a quick look at the training and validation accuracies for each epoch of training:"
      ],
      "id": "Y94djl4t0sK5"
    },
    {
      "cell_type": "code",
      "execution_count": 28,
      "metadata": {
        "colab": {
          "base_uri": "https://localhost:8080/",
          "height": 298
        },
        "id": "C2Fp6Se9rKuL",
        "outputId": "2bc84fb0-2bd4-4d4f-e0f7-f8ce89732f4e"
      },
      "outputs": [
        {
          "output_type": "display_data",
          "data": {
            "text/plain": [
              "<Figure size 432x288 with 1 Axes>"
            ],
            "image/png": "[encoded data removed]"
          },
          "metadata": {
            "needs_background": "light"
          }
        },
        {
          "output_type": "display_data",
          "data": {
            "text/plain": [
              "<Figure size 432x288 with 0 Axes>"
            ]
          },
          "metadata": {}
        }
      ],
      "source": [
        "# Plot the training and validation accuracies for each epoch\n",
        "\n",
        "acc = history.history['accuracy']\n",
        "val_acc = history.history['val_accuracy']\n",
        "loss = history.history['loss']\n",
        "val_loss = history.history['val_loss']\n",
        "\n",
        "epochs = range(len(acc))\n",
        "\n",
        "plt.plot(epochs, acc, 'r', label='Training accuracy')\n",
        "plt.plot(epochs, val_acc, 'b', label='Validation accuracy')\n",
        "plt.title('Training and validation accuracy')\n",
        "plt.legend(loc=0)\n",
        "plt.figure()\n",
        "\n",
        "plt.show()"
      ],
      "id": "C2Fp6Se9rKuL"
    },
    {
      "cell_type": "code",
      "execution_count": 53,
      "metadata": {
        "id": "AYrMYbm9b1xF"
      },
      "outputs": [],
      "source": [
        "def test_generate(TEST_DIR):\n",
        "  test_datagen = ImageDataGenerator(\n",
        "      rescale=1./255)\n",
        "\n",
        "  # Pass in the appropriate arguments to the flow_from_directory method\n",
        "  test_generator = test_datagen.flow_from_directory(directory=TEST_DIR,\n",
        "                                                      class_mode='categorical',\n",
        "                                                      batch_size = 1,\n",
        "                                                      target_size=(150, 150),\n",
        "                                                    shuffle = False,\n",
        "                                                      classes=['.'])\n",
        "  return test_generator"
      ],
      "id": "AYrMYbm9b1xF"
    },
    {
      "cell_type": "code",
      "execution_count": 54,
      "metadata": {
        "colab": {
          "base_uri": "https://localhost:8080/"
        },
        "id": "9WmDcFjXcC1H",
        "outputId": "969208ff-e993-455a-d52b-1afbedc61347"
      },
      "outputs": [
        {
          "output_type": "stream",
          "name": "stdout",
          "text": [
            "Found 1618 images belonging to 1 classes.\n"
          ]
        }
      ],
      "source": [
        "test_dir = '/content/sample_data/lulc-tra-val/lulc-classificatio/test'\n",
        "test_generator = test_generate(test_dir)"
      ],
      "id": "9WmDcFjXcC1H"
    },
    {
      "cell_type": "code",
      "source": [
        "dictionary = {0 : 10, 1 : 11, 2 : 12, 3 : 13, 4 : 14, 5 : 15, 6 : 16, 7 : 17, 8 : 18, 9 : 19, 10 : 1, 11 : 20, 12 : 21, 13 : 22, 14 : 23, 15 : 24, 16 : 25, 17 : 26, 18 : 27, 19 : 28, 20 : 29, 21 : 2, 22 : 3, 23 : 4, 24 : 5, 25 : 6, 26 : 7, 27 : 8, 28 : 9}"
      ],
      "metadata": {
        "id": "wJokdSXM5iN9"
      },
      "id": "wJokdSXM5iN9",
      "execution_count": 58,
      "outputs": []
    },
    {
      "cell_type": "code",
      "execution_count": 69,
      "metadata": {
        "id": "NVSWKkCUd_ew",
        "colab": {
          "base_uri": "https://localhost:8080/"
        },
        "outputId": "724882db-f269-476f-bc76-cab2f039b76a"
      },
      "outputs": [
        {
          "output_type": "stream",
          "name": "stderr",
          "text": [
            "/usr/local/lib/python3.7/dist-packages/ipykernel_launcher.py:1: UserWarning: `Model.predict_generator` is deprecated and will be removed in a future version. Please use `Model.predict`, which supports generators.\n",
            "  \"\"\"Entry point for launching an IPython kernel.\n"
          ]
        }
      ],
      "source": [
        "predict_proba = model.predict_generator(test_generator)\n",
        "predict = np.argmax(predict_proba, axis = 1)\n",
        "predict = np.vectorize(dictionary.get)(predict)"
      ],
      "id": "NVSWKkCUd_ew"
    },
    {
      "cell_type": "code",
      "source": [
        "import pandas as pd"
      ],
      "metadata": {
        "id": "yKvKBMjVyOBF"
      },
      "id": "yKvKBMjVyOBF",
      "execution_count": 56,
      "outputs": []
    },
    {
      "cell_type": "code",
      "execution_count": 72,
      "metadata": {
        "id": "NbpcEm4DnS0F"
      },
      "outputs": [],
      "source": [
        "submission = pd.DataFrame()\n",
        "\n",
        "filenames = list()\n",
        "for filename in test_generator.filenames:\n",
        "  if filename.endswith(\".jpg\"):\n",
        "    filenames.append(filename[2:])\n",
        "submission[\"id.jpg\"] = filenames\n",
        "\n",
        "submission[\"label\"] = predict\n",
        "\n",
        "submission.to_csv(\"/content/submission.csv\", index = False)"
      ],
      "id": "NbpcEm4DnS0F"
    },
    {
      "cell_type": "markdown",
      "metadata": {
        "id": "g-4-4i9U1a0s"
      },
      "source": [
        "You will need to submit this notebook for grading. To download it, click on the `File` tab in the upper left corner of the screen then click on `Download` -> `Download .ipynb`. You can name it anything you want as long as it is a valid `.ipynb` (jupyter notebook) file."
      ],
      "id": "g-4-4i9U1a0s"
    },
    {
      "cell_type": "markdown",
      "metadata": {
        "id": "7w54-pbB1W9r"
      },
      "source": [
        "**Congratulations on finishing this week's assignment!**\n",
        "\n",
        "You have successfully implemented a convolutional neural network that leverages a pre-trained network to help you solve the problem of classifying humans from horses.\n",
        "\n",
        "**Keep it up!**"
      ],
      "id": "7w54-pbB1W9r"
    }
  ],
  "metadata": {
    "accelerator": "GPU",
    "colab": {
      "collapsed_sections": [],
      "name": "C2W3_Assignment_Transfer_Learning_lulc.ipynb",
      "provenance": []
    },
    "kernelspec": {
      "display_name": "Python 3",
      "language": "python",
      "name": "python3"
    },
    "language_info": {
      "codemirror_mode": {
        "name": "ipython",
        "version": 3
      },
      "file_extension": ".py",
      "mimetype": "text/x-python",
      "name": "python",
      "nbconvert_exporter": "python",
      "pygments_lexer": "ipython3",
      "version": "3.7.6"
    }
  },
  "nbformat": 4,
  "nbformat_minor": 5
}