{
  "cells": [
    {
      "cell_type": "markdown",
      "metadata": {
        "id": "FE7KNzPPVrVV"
      },
      "source": [
        "# Image classification"
      ],
      "id": "FE7KNzPPVrVV"
    },
    {
      "cell_type": "markdown",
      "metadata": {
        "id": "zF9uvbXNVrVY"
      },
      "source": [
        "## Import packages"
      ],
      "id": "zF9uvbXNVrVY"
    },
    {
      "cell_type": "code",
      "execution_count": 1,
      "metadata": {
        "id": "rtPGh2MAVrVa"
      },
      "outputs": [],
      "source": [
        "from __future__ import absolute_import, division, print_function, unicode_literals"
      ],
      "id": "rtPGh2MAVrVa"
    },
    {
      "cell_type": "markdown",
      "metadata": {
        "id": "Jlchl4x2VrVg"
      },
      "source": [
        "Import Tensorflow and the Keras classes needed to construct our model."
      ],
      "id": "Jlchl4x2VrVg"
    },
    {
      "cell_type": "code",
      "execution_count": 2,
      "metadata": {
        "id": "E82grprdYPI0"
      },
      "outputs": [],
      "source": [
        "try:\n",
        "  # %tensorflow_version only exists in Colab.\n",
        "  %tensorflow_version 2.x\n",
        "except Exception:\n",
        "  pass\n",
        "import tensorflow as tf"
      ],
      "id": "E82grprdYPI0"
    },
    {
      "cell_type": "code",
      "execution_count": 3,
      "metadata": {
        "id": "L1WtoaOHVrVh"
      },
      "outputs": [],
      "source": [
        "from tensorflow.keras.models import Sequential\n",
        "from tensorflow.keras.layers import Dense, Conv2D, Flatten, Dropout, MaxPooling2D\n",
        "from tensorflow.keras.preprocessing.image import ImageDataGenerator, load_img\n",
        "\n",
        "from tensorflow.keras import layers\n",
        "from tensorflow.keras import Model\n",
        "from tensorflow.keras.optimizers import RMSprop\n",
        "\n",
        "import os\n",
        "import zipfile\n",
        "\n",
        "import pandas as pd\n",
        "import numpy as np\n",
        "import matplotlib.pyplot as plt"
      ],
      "id": "L1WtoaOHVrVh"
    },
    {
      "cell_type": "markdown",
      "metadata": {
        "id": "UZZI6lNkVrVm"
      },
      "source": [
        "## Load data"
      ],
      "id": "UZZI6lNkVrVm"
    },
    {
      "cell_type": "code",
      "execution_count": 4,
      "metadata": {
        "colab": {
          "base_uri": "https://localhost:8080/"
        },
        "id": "HCAjJLhr1fqC",
        "outputId": "ba0ec4fc-1f96-46c3-9799-bc393c0cb135"
      },
      "outputs": [
        {
          "output_type": "stream",
          "name": "stdout",
          "text": [
            "Mounted at /content/drive\n"
          ]
        }
      ],
      "source": [
        "from google.colab import drive\n",
        "drive.mount('/content/drive')"
      ],
      "id": "HCAjJLhr1fqC"
    },
    {
      "cell_type": "code",
      "execution_count": 5,
      "metadata": {
        "id": "DmYx9zPa25Mz"
      },
      "outputs": [],
      "source": [
        "train_local_zip = '/content/drive/MyDrive/lulc-tra-val.zip'\n",
        "zip_ref = zipfile.ZipFile(train_local_zip, 'r')\n",
        "zip_ref.extractall('/content/sample_data/lulc-tra-val')\n",
        "\n",
        "#val_local_zip = './validation-horse-or-human.zip'\n",
        "#zip_ref = zipfile.ZipFile(val_local_zip, 'r')\n",
        "#zip_ref.extractall('/tmp/validation')\n",
        "\n",
        "zip_ref.close()"
      ],
      "id": "DmYx9zPa25Mz"
    },
    {
      "cell_type": "code",
      "execution_count": 6,
      "metadata": {
        "id": "ly_AzZbb0diz"
      },
      "outputs": [],
      "source": [
        "PATH = '/content/sample_data/lulc-tra-val/lulc-classificatio'"
      ],
      "id": "ly_AzZbb0diz"
    },
    {
      "cell_type": "markdown",
      "metadata": {
        "id": "VpmywIlsVrVx"
      },
      "source": [
        "After extracting its contents, assign variables with the proper file path for the training and validation set."
      ],
      "id": "VpmywIlsVrVx"
    },
    {
      "cell_type": "code",
      "execution_count": 7,
      "metadata": {
        "id": "sRucI3QqVrVy"
      },
      "outputs": [],
      "source": [
        "train_dir = os.path.join(PATH, 'train')\n",
        "validation_dir = os.path.join(PATH, 'validation')"
      ],
      "id": "sRucI3QqVrVy"
    },
    {
      "cell_type": "code",
      "execution_count": 8,
      "metadata": {
        "id": "Utv3nryxVrV0"
      },
      "outputs": [],
      "source": [
        "# Directory with training horse pictures\n",
        "train_BarrenLands_dir = os.path.join(train_dir, '1_BarrenLands___jpeg')\n",
        "# Directory with training humans pictures\n",
        "train_MossAndLichen_dir = os.path.join(train_dir, '2_MossAndLichen_jpeg')\n",
        "# Directory with training humans pictures\n",
        "train_Grasslands_dir = os.path.join(train_dir, '3_Grasslands____jpeg')\n",
        "# Directory with training humans pictures\n",
        "train_ShrublandOpen_dir = os.path.join(train_dir, '4_ShrublandOpen_jpeg')\n",
        "# Directory with training humans pictures\n",
        "train_SrublandClose_dir = os.path.join(train_dir, '5_SrublandClose_jpeg')\n",
        "# Directory with training humans pictures\n",
        "train_ForestsOpDeBr_dir = os.path.join(train_dir, '6_ForestsOpDeBr_jpeg')\n",
        "# Directory with training humans pictures\n",
        "train_ForestsClDeBr_dir = os.path.join(train_dir, '7_ForestsClDeBr_jpeg')\n",
        "# Directory with training humans pictures\n",
        "train_ForestsDeDeBr_dir = os.path.join(train_dir, '8_ForestsDeDeBr_jpeg')\n",
        "# Directory with training humans pictures\n",
        "train_ForestsOpDeNe_dir = os.path.join(train_dir, '9_ForestsOpDeNe_jpeg')\n",
        "# Directory with training humans pictures\n",
        "train_ForestsClDeNe_dir = os.path.join(train_dir, '10_ForestsClDeNe_jpeg')\n",
        "# Directory with training humans pictures\n",
        "train_ForestsDeDeNe_dir = os.path.join(train_dir, '11_ForestsDeDeNe_jpeg')\n",
        "# Directory with training humans pictures\n",
        "train_ForestsOpEvBr_dir = os.path.join(train_dir, '12_ForestsOpEvBr_jpeg')\n",
        "# Directory with training humans pictures\n",
        "train_ForestsClEvBr_dir = os.path.join(train_dir, '13_ForestsClEvBr_jpeg')\n",
        "# Directory with training humans pictures\n",
        "train_ForestsDeEvBr_dir = os.path.join(train_dir, '14_ForestsDeEvBr_jpeg')\n",
        "# Directory with training humans pictures\n",
        "train_ForestsOpEvNe_dir = os.path.join(train_dir, '15_ForestsOpEvNe_jpeg')\n",
        "# Directory with training humans pictures\n",
        "train_ForestsClEvNe_dir = os.path.join(train_dir, '16_ForestsClEvNe_jpeg')\n",
        "# Directory with training humans pictures\n",
        "train_ForestsDeEvNe_dir = os.path.join(train_dir, '17_ForestsDeEvNe_jpeg')\n",
        "# Directory with training humans pictures\n",
        "train_WetlandMangro_dir = os.path.join(train_dir, '18_WetlandMangro_jpeg')\n",
        "# Directory with training humans pictures\n",
        "train_WetlandSwamps_dir = os.path.join(train_dir, '19_WetlandSwamps_jpeg')\n",
        "# Directory with training humans pictures\n",
        "train_WetlandMarshl_dir = os.path.join(train_dir, '20_WetlandMarshl_jpeg')\n",
        "# Directory with training humans pictures\n",
        "train_WaterBodyMari_dir = os.path.join(train_dir, '21_WaterBodyMari_jpeg')\n",
        "# Directory with training humans pictures\n",
        "train_WaterBodyCont_dir = os.path.join(train_dir, '22_WaterBodyCont_jpeg')\n",
        "# Directory with training humans pictures\n",
        "train_PermanentSnow_dir = os.path.join(train_dir, '23_PermanentSnow_jpeg')\n",
        "# Directory with training humans pictures\n",
        "train_CropSeasWater_dir = os.path.join(train_dir, '24_CropSeasWater_jpeg')\n",
        "# Directory with training humans pictures\n",
        "train_CropCereaIrri_dir = os.path.join(train_dir, '25_CropCereaIrri_jpeg')\n",
        "# Directory with training humans pictures\n",
        "train_CropCereaRain_dir = os.path.join(train_dir, '26_CropCereaRain_jpeg')\n",
        "# Directory with training humans pictures\n",
        "train_CropBroadIrri_dir = os.path.join(train_dir, '27_CropBroadIrri_jpeg')\n",
        "# Directory with training humans pictures\n",
        "train_CropBroadRain_dir = os.path.join(train_dir, '28_CropBroadRain_jpeg')\n",
        "# Directory with training humans pictures\n",
        "train_UrbanBlUpArea_dir = os.path.join(train_dir, '29_UrbanBlUpArea_jpeg')"
      ],
      "id": "Utv3nryxVrV0"
    },
    {
      "cell_type": "code",
      "execution_count": 9,
      "metadata": {
        "colab": {
          "base_uri": "https://localhost:8080/",
          "height": 287
        },
        "id": "0gjrecFt5Usg",
        "outputId": "fc6a3574-df51-40bc-9243-1a178fd519fe"
      },
      "outputs": [
        {
          "output_type": "stream",
          "name": "stdout",
          "text": [
            "Sample BarrenLands image:\n"
          ]
        },
        {
          "output_type": "display_data",
          "data": {
            "text/plain": [
              "<Figure size 432x288 with 1 Axes>"
            ],
            "image/png": "[encoded data removed]"
          },
          "metadata": {
            "needs_background": "light"
          }
        }
      ],
      "source": [
        "print(\"Sample BarrenLands image:\")\n",
        "plt.imshow(load_img(f\"{os.path.join(train_BarrenLands_dir, os.listdir(train_BarrenLands_dir)[0])}\"))\n",
        "plt.show()"
      ],
      "id": "0gjrecFt5Usg"
    },
    {
      "cell_type": "code",
      "execution_count": 10,
      "metadata": {
        "id": "n_E0pLcS5oYo"
      },
      "outputs": [],
      "source": [
        "# Directory with validationing horse pictures\n",
        "validation_BarrenLands_dir = os.path.join(validation_dir, '1_BarrenLands___jpeg')\n",
        "# Directory with validationing humans pictures\n",
        "validation_MossAndLichen_dir = os.path.join(validation_dir, '2_MossAndLichen_jpeg')\n",
        "# Directory with validationing humans pictures\n",
        "validation_Grasslands_dir = os.path.join(validation_dir, '3_Grasslands____jpeg')\n",
        "# Directory with validationing humans pictures\n",
        "validation_ShrublandOpen_dir = os.path.join(validation_dir, '4_ShrublandOpen_jpeg')\n",
        "# Directory with validationing humans pictures\n",
        "validation_SrublandClose_dir = os.path.join(validation_dir, '5_SrublandClose_jpeg')\n",
        "# Directory with validationing humans pictures\n",
        "validation_ForestsOpDeBr_dir = os.path.join(validation_dir, '6_ForestsOpDeBr_jpeg')\n",
        "# Directory with validationing humans pictures\n",
        "validation_ForestsClDeBr_dir = os.path.join(validation_dir, '7_ForestsClDeBr_jpeg')\n",
        "# Directory with validationing humans pictures\n",
        "validation_ForestsDeDeBr_dir = os.path.join(validation_dir, '8_ForestsDeDeBr_jpeg')\n",
        "# Directory with validationing humans pictures\n",
        "validation_ForestsOpDeNe_dir = os.path.join(validation_dir, '9_ForestsOpDeNe_jpeg')\n",
        "# Directory with validationing humans pictures\n",
        "validation_ForestsClDeNe_dir = os.path.join(validation_dir, '10_ForestsClDeNe_jpeg')\n",
        "# Directory with validationing humans pictures\n",
        "validation_ForestsDeDeNe_dir = os.path.join(validation_dir, '11_ForestsDeDeNe_jpeg')\n",
        "# Directory with validationing humans pictures\n",
        "validation_ForestsOpEvBr_dir = os.path.join(validation_dir, '12_ForestsOpEvBr_jpeg')\n",
        "# Directory with validationing humans pictures\n",
        "validation_ForestsClEvBr_dir = os.path.join(validation_dir, '13_ForestsClEvBr_jpeg')\n",
        "# Directory with validationing humans pictures\n",
        "validation_ForestsDeEvBr_dir = os.path.join(validation_dir, '14_ForestsDeEvBr_jpeg')\n",
        "# Directory with validationing humans pictures\n",
        "validation_ForestsOpEvNe_dir = os.path.join(validation_dir, '15_ForestsOpEvNe_jpeg')\n",
        "# Directory with validationing humans pictures\n",
        "validation_ForestsClEvNe_dir = os.path.join(validation_dir, '16_ForestsClEvNe_jpeg')\n",
        "# Directory with validationing humans pictures\n",
        "validation_ForestsDeEvNe_dir = os.path.join(validation_dir, '17_ForestsDeEvNe_jpeg')\n",
        "# Directory with validationing humans pictures\n",
        "validation_WetlandMangro_dir = os.path.join(validation_dir, '18_WetlandMangro_jpeg')\n",
        "# Directory with validationing humans pictures\n",
        "validation_WetlandSwamps_dir = os.path.join(validation_dir, '19_WetlandSwamps_jpeg')\n",
        "# Directory with validationing humans pictures\n",
        "validation_WetlandMarshl_dir = os.path.join(validation_dir, '20_WetlandMarshl_jpeg')\n",
        "# Directory with validationing humans pictures\n",
        "validation_WaterBodyMari_dir = os.path.join(validation_dir, '21_WaterBodyMari_jpeg')\n",
        "# Directory with validationing humans pictures\n",
        "validation_WaterBodyCont_dir = os.path.join(validation_dir, '22_WaterBodyCont_jpeg')\n",
        "# Directory with validationing humans pictures\n",
        "validation_PermanentSnow_dir = os.path.join(validation_dir, '23_PermanentSnow_jpeg')\n",
        "# Directory with validationing humans pictures\n",
        "validation_CropSeasWater_dir = os.path.join(validation_dir, '24_CropSeasWater_jpeg')\n",
        "# Directory with validationing humans pictures\n",
        "validation_CropCereaIrri_dir = os.path.join(validation_dir, '25_CropCereaIrri_jpeg')\n",
        "# Directory with validationing humans pictures\n",
        "validation_CropCereaRain_dir = os.path.join(validation_dir, '26_CropCereaRain_jpeg')\n",
        "# Directory with validationing humans pictures\n",
        "validation_CropBroadIrri_dir = os.path.join(validation_dir, '27_CropBroadIrri_jpeg')\n",
        "# Directory with validationing humans pictures\n",
        "validation_CropBroadRain_dir = os.path.join(validation_dir, '28_CropBroadRain_jpeg')\n",
        "# Directory with validationing humans pictures\n",
        "validation_UrbanBlUpArea_dir = os.path.join(validation_dir, '29_UrbanBlUpArea_jpeg')"
      ],
      "id": "n_E0pLcS5oYo"
    },
    {
      "cell_type": "code",
      "execution_count": 11,
      "metadata": {
        "colab": {
          "base_uri": "https://localhost:8080/",
          "height": 287
        },
        "id": "w7eg5OZQAR9I",
        "outputId": "349ac259-1f98-4bc1-ca37-763f26f27bad"
      },
      "outputs": [
        {
          "output_type": "stream",
          "name": "stdout",
          "text": [
            "Sample BarrenLands image:\n"
          ]
        },
        {
          "output_type": "display_data",
          "data": {
            "text/plain": [
              "<Figure size 432x288 with 1 Axes>"
            ],
            "image/png": "[encoded data removed]"
          },
          "metadata": {
            "needs_background": "light"
          }
        }
      ],
      "source": [
        "print(\"Sample BarrenLands image:\")\n",
        "plt.imshow(load_img(f\"{os.path.join(validation_BarrenLands_dir, os.listdir(validation_BarrenLands_dir)[0])}\"))\n",
        "plt.show()"
      ],
      "id": "w7eg5OZQAR9I"
    },
    {
      "cell_type": "markdown",
      "metadata": {
        "id": "ZdrHHTy2VrV3"
      },
      "source": [
        "### Understand the data"
      ],
      "id": "ZdrHHTy2VrV3"
    },
    {
      "cell_type": "code",
      "execution_count": 12,
      "metadata": {
        "colab": {
          "base_uri": "https://localhost:8080/"
        },
        "id": "vc4u8e9hVrV4",
        "outputId": "ac8d7046-6b0a-4aaf-f8c1-be401f4770f5"
      },
      "outputs": [
        {
          "output_type": "stream",
          "name": "stdout",
          "text": [
            "total training barren images: 283\n",
            "total validation barren images: 71\n"
          ]
        }
      ],
      "source": [
        "num_barren_tr = len(os.listdir(train_BarrenLands_dir))\n",
        "num_barren_val = len(os.listdir(validation_BarrenLands_dir))\n",
        "\n",
        "print('total training barren images:', num_barren_tr)\n",
        "print('total validation barren images:', num_barren_val)"
      ],
      "id": "vc4u8e9hVrV4"
    },
    {
      "cell_type": "markdown",
      "metadata": {
        "id": "8Lp-0ejxOtP1"
      },
      "source": [
        "For convenience, set up variables to use while pre-processing the dataset and training the network."
      ],
      "id": "8Lp-0ejxOtP1"
    },
    {
      "cell_type": "code",
      "execution_count": 13,
      "metadata": {
        "id": "3NqNselLVrWA"
      },
      "outputs": [],
      "source": [
        "batch_size = 32\n",
        "epochs = 15\n",
        "img_height = 160\n",
        "img_width = 160"
      ],
      "id": "3NqNselLVrWA"
    },
    {
      "cell_type": "markdown",
      "metadata": {
        "id": "6HcE1TSqNRY2"
      },
      "source": [
        "## Training and Validation Generators\n",
        "\n",
        "Now that you know the images you are dealing with, it is time for you to code the generators that will fed these images to your Network. For this, complete the `train_val_generators` function below:\n",
        "\n",
        "**Important Note:** The images have a resolution of 300x300 but the `flow_from_directory` method you will use allows you to set a target resolution. In this case, **set a `target_size` of (150, 150)**. This will heavily lower the number of trainable parameters in your final network, yielding much quicker training times without compromising the accuracy!"
      ],
      "id": "6HcE1TSqNRY2"
    },
    {
      "cell_type": "code",
      "execution_count": 14,
      "metadata": {
        "cellView": "code",
        "id": "AX5Q3NL_FXMT"
      },
      "outputs": [],
      "source": [
        "# GRADED FUNCTION: train_val_generators\n",
        "def train_val_generators(TRAINING_DIR, VALIDATION_DIR):\n",
        "  ### START CODE HERE\n",
        "\n",
        "  # Instantiate the ImageDataGenerator class \n",
        "  # Don't forget to normalize pixel values and set arguments to augment the images \n",
        "  train_datagen = ImageDataGenerator(\n",
        "      rescale=1./255,\n",
        "      rotation_range=40,\n",
        "      width_shift_range=0.2,\n",
        "      height_shift_range=0.2,\n",
        "      shear_range=0.2,\n",
        "      horizontal_flip=True,\n",
        "      fill_mode='nearest')\n",
        "\n",
        "  # Pass in the appropriate arguments to the flow_from_directory method\n",
        "  train_generator = train_datagen.flow_from_directory(directory=TRAINING_DIR,\n",
        "                                                      batch_size=32, \n",
        "                                                      class_mode='categorical',\n",
        "                                                      target_size=(150, 150))\n",
        "\n",
        "  # Instantiate the ImageDataGenerator class (don't forget to set the rescale argument)\n",
        "  # Remember that validation data should not be augmented\n",
        "  validation_datagen = ImageDataGenerator(\n",
        "      rescale=1./255,\n",
        "      )\n",
        "\n",
        "  # Pass in the appropriate arguments to the flow_from_directory method\n",
        "  validation_generator = validation_datagen.flow_from_directory(directory=VALIDATION_DIR,\n",
        "                                                                batch_size=32, \n",
        "                                                                class_mode='categorical',\n",
        "                                                                target_size=(150, 150))\n",
        "  ### END CODE HERE\n",
        "  return train_generator, validation_generator\n"
      ],
      "id": "AX5Q3NL_FXMT"
    },
    {
      "cell_type": "code",
      "execution_count": 15,
      "metadata": {
        "colab": {
          "base_uri": "https://localhost:8080/"
        },
        "id": "8FLUUqMKFwVR",
        "outputId": "e8a2bbfa-db17-41a7-c1c6-dfa1ddb1f7da"
      },
      "outputs": [
        {
          "output_type": "stream",
          "name": "stdout",
          "text": [
            "Found 8207 images belonging to 29 classes.\n",
            "Found 2059 images belonging to 29 classes.\n"
          ]
        }
      ],
      "source": [
        "# Test your generators\n",
        "train_generator, validation_generator = train_val_generators(train_dir, validation_dir)"
      ],
      "id": "8FLUUqMKFwVR"
    },
    {
      "cell_type": "markdown",
      "metadata": {
        "id": "Izx51Ju1rXwd"
      },
      "source": [
        "## Transfer learning - Create the pre-trained model\n",
        "\n",
        "Download the `inception V3` weights into the `/tmp/` directory:"
      ],
      "id": "Izx51Ju1rXwd"
    },
    {
      "cell_type": "code",
      "execution_count": null,
      "metadata": {
        "colab": {
          "base_uri": "https://localhost:8080/"
        },
        "id": "-lEzPAqxrPcU",
        "outputId": "2262c51f-1270-466f-ac27-cb6ef1651dc7"
      },
      "outputs": [
        {
          "output_type": "stream",
          "name": "stdout",
          "text": [
            "--2022-03-31 10:01:13--  https://storage.googleapis.com/mledu-datasets/inception_v3_weights_tf_dim_ordering_tf_kernels_notop.h5\n",
            "Resolving storage.googleapis.com (storage.googleapis.com)... 64.233.189.128, 108.177.97.128, 108.177.125.128, ...\n",
            "Connecting to storage.googleapis.com (storage.googleapis.com)|64.233.189.128|:443... connected.\n",
            "HTTP request sent, awaiting response... 200 OK\n",
            "Length: 87910968 (84M) [application/x-hdf]\n",
            "Saving to: ‘/tmp/inception_v3_weights_tf_dim_ordering_tf_kernels_notop.h5’\n",
            "\n",
            "/tmp/inception_v3_w 100%[===================>]  83.84M  48.3MB/s    in 1.7s    \n",
            "\n",
            "2022-03-31 10:01:15 (48.3 MB/s) - ‘/tmp/inception_v3_weights_tf_dim_ordering_tf_kernels_notop.h5’ saved [87910968/87910968]\n",
            "\n"
          ]
        }
      ],
      "source": [
        "# Download the inception v3 weights\n",
        "!wget --no-check-certificate \\\n",
        "    https://storage.googleapis.com/mledu-datasets/inception_v3_weights_tf_dim_ordering_tf_kernels_notop.h5 \\\n",
        "    -O /tmp/inception_v3_weights_tf_dim_ordering_tf_kernels_notop.h5"
      ],
      "id": "-lEzPAqxrPcU"
    },
    {
      "cell_type": "markdown",
      "metadata": {
        "id": "_zlXNulm9USZ"
      },
      "source": [
        "Now load the `InceptionV3` model and save the path to the weights you just downloaded:"
      ],
      "id": "_zlXNulm9USZ"
    },
    {
      "cell_type": "code",
      "execution_count": 16,
      "metadata": {
        "id": "zfmRpsMf7E3-"
      },
      "outputs": [],
      "source": [
        "# Import the inception model  \n",
        "from tensorflow.keras.applications.inception_v3 import InceptionV3\n",
        "# Import the inception model  \n",
        "from tensorflow.keras.applications.mobilenet import MobileNet\n",
        "\n",
        "from tensorflow.keras.applications.resnet_v2 import ResNet152V2\n",
        "\n",
        "from tensorflow.keras.applications.densenet import DenseNet201\n",
        "\n",
        "from tensorflow.keras.applications.xception import Xception\n",
        "\n",
        "# Create an instance of the inception model from the local pre-trained weights\n",
        "#local_weights_file = '/tmp/inception_v3_weights_tf_dim_ordering_tf_kernels_notop.h5'"
      ],
      "id": "zfmRpsMf7E3-"
    },
    {
      "cell_type": "markdown",
      "metadata": {
        "id": "ZPQb0PkT9_3w"
      },
      "source": [
        "Complete the `create_pre_trained_model` function below. You should specify the correct `input_shape` for the model (remember that you set a new resolution for the images instead of the native 300x300) and make all of the layers non-trainable:"
      ],
      "id": "ZPQb0PkT9_3w"
    },
    {
      "cell_type": "code",
      "execution_count": 17,
      "metadata": {
        "cellView": "code",
        "id": "x2JnQ6m8r5oe"
      },
      "outputs": [],
      "source": [
        "# GRADED FUNCTION: create_pre_trained_model\n",
        "def create_pre_trained_model(architecture):\n",
        "  ### START CODE HERE\n",
        "  pre_trained_model = architecture(input_shape = (img_width, img_height, 3),\n",
        "                                  include_top = False,\n",
        "                                  weights=\"imagenet\") \n",
        "\n",
        "  # Make all the layers in the pre-trained model non-trainable\n",
        "  for layer in pre_trained_model.layers:\n",
        "     layer.trainable = False\n",
        "\n",
        "  ### END CODE HERE\n",
        "\n",
        "  return pre_trained_model\n",
        "  "
      ],
      "id": "x2JnQ6m8r5oe"
    },
    {
      "cell_type": "markdown",
      "metadata": {
        "id": "phE00SCr-RCT"
      },
      "source": [
        "Check that everything went well by comparing the last few rows of the model summary to the expected output:"
      ],
      "id": "phE00SCr-RCT"
    },
    {
      "cell_type": "code",
      "execution_count": 18,
      "metadata": {
        "id": "ve7eh9iztT4q",
        "colab": {
          "base_uri": "https://localhost:8080/"
        },
        "outputId": "6ff079d4-bd42-49d8-c271-00b66b64ff06"
      },
      "outputs": [
        {
          "output_type": "stream",
          "name": "stdout",
          "text": [
            "Downloading data from https://storage.googleapis.com/tensorflow/keras-applications/xception/xception_weights_tf_dim_ordering_tf_kernels_notop.h5\n",
            "83689472/83683744 [==============================] - 1s 0us/step\n",
            "83697664/83683744 [==============================] - 1s 0us/step\n",
            "Model: \"xception\"\n",
            "__________________________________________________________________________________________________\n",
            " Layer (type)                   Output Shape         Param #     Connected to                     \n",
            "==================================================================================================\n",
            " input_1 (InputLayer)           [(None, 160, 160, 3  0           []                               \n",
            "                                )]                                                                \n",
            "                                                                                                  \n",
            " block1_conv1 (Conv2D)          (None, 79, 79, 32)   864         ['input_1[0][0]']                \n",
            "                                                                                                  \n",
            " block1_conv1_bn (BatchNormaliz  (None, 79, 79, 32)  128         ['block1_conv1[0][0]']           \n",
            " ation)                                                                                           \n",
            "                                                                                                  \n",
            " block1_conv1_act (Activation)  (None, 79, 79, 32)   0           ['block1_conv1_bn[0][0]']        \n",
            "                                                                                                  \n",
            " block1_conv2 (Conv2D)          (None, 77, 77, 64)   18432       ['block1_conv1_act[0][0]']       \n",
            "                                                                                                  \n",
            " block1_conv2_bn (BatchNormaliz  (None, 77, 77, 64)  256         ['block1_conv2[0][0]']           \n",
            " ation)                                                                                           \n",
            "                                                                                                  \n",
            " block1_conv2_act (Activation)  (None, 77, 77, 64)   0           ['block1_conv2_bn[0][0]']        \n",
            "                                                                                                  \n",
            " block2_sepconv1 (SeparableConv  (None, 77, 77, 128)  8768       ['block1_conv2_act[0][0]']       \n",
            " 2D)                                                                                              \n",
            "                                                                                                  \n",
            " block2_sepconv1_bn (BatchNorma  (None, 77, 77, 128)  512        ['block2_sepconv1[0][0]']        \n",
            " lization)                                                                                        \n",
            "                                                                                                  \n",
            " block2_sepconv2_act (Activatio  (None, 77, 77, 128)  0          ['block2_sepconv1_bn[0][0]']     \n",
            " n)                                                                                               \n",
            "                                                                                                  \n",
            " block2_sepconv2 (SeparableConv  (None, 77, 77, 128)  17536      ['block2_sepconv2_act[0][0]']    \n",
            " 2D)                                                                                              \n",
            "                                                                                                  \n",
            " block2_sepconv2_bn (BatchNorma  (None, 77, 77, 128)  512        ['block2_sepconv2[0][0]']        \n",
            " lization)                                                                                        \n",
            "                                                                                                  \n",
            " conv2d (Conv2D)                (None, 39, 39, 128)  8192        ['block1_conv2_act[0][0]']       \n",
            "                                                                                                  \n",
            " block2_pool (MaxPooling2D)     (None, 39, 39, 128)  0           ['block2_sepconv2_bn[0][0]']     \n",
            "                                                                                                  \n",
            " batch_normalization (BatchNorm  (None, 39, 39, 128)  512        ['conv2d[0][0]']                 \n",
            " alization)                                                                                       \n",
            "                                                                                                  \n",
            " add (Add)                      (None, 39, 39, 128)  0           ['block2_pool[0][0]',            \n",
            "                                                                  'batch_normalization[0][0]']    \n",
            "                                                                                                  \n",
            " block3_sepconv1_act (Activatio  (None, 39, 39, 128)  0          ['add[0][0]']                    \n",
            " n)                                                                                               \n",
            "                                                                                                  \n",
            " block3_sepconv1 (SeparableConv  (None, 39, 39, 256)  33920      ['block3_sepconv1_act[0][0]']    \n",
            " 2D)                                                                                              \n",
            "                                                                                                  \n",
            " block3_sepconv1_bn (BatchNorma  (None, 39, 39, 256)  1024       ['block3_sepconv1[0][0]']        \n",
            " lization)                                                                                        \n",
            "                                                                                                  \n",
            " block3_sepconv2_act (Activatio  (None, 39, 39, 256)  0          ['block3_sepconv1_bn[0][0]']     \n",
            " n)                                                                                               \n",
            "                                                                                                  \n",
            " block3_sepconv2 (SeparableConv  (None, 39, 39, 256)  67840      ['block3_sepconv2_act[0][0]']    \n",
            " 2D)                                                                                              \n",
            "                                                                                                  \n",
            " block3_sepconv2_bn (BatchNorma  (None, 39, 39, 256)  1024       ['block3_sepconv2[0][0]']        \n",
            " lization)                                                                                        \n",
            "                                                                                                  \n",
            " conv2d_1 (Conv2D)              (None, 20, 20, 256)  32768       ['add[0][0]']                    \n",
            "                                                                                                  \n",
            " block3_pool (MaxPooling2D)     (None, 20, 20, 256)  0           ['block3_sepconv2_bn[0][0]']     \n",
            "                                                                                                  \n",
            " batch_normalization_1 (BatchNo  (None, 20, 20, 256)  1024       ['conv2d_1[0][0]']               \n",
            " rmalization)                                                                                     \n",
            "                                                                                                  \n",
            " add_1 (Add)                    (None, 20, 20, 256)  0           ['block3_pool[0][0]',            \n",
            "                                                                  'batch_normalization_1[0][0]']  \n",
            "                                                                                                  \n",
            " block4_sepconv1_act (Activatio  (None, 20, 20, 256)  0          ['add_1[0][0]']                  \n",
            " n)                                                                                               \n",
            "                                                                                                  \n",
            " block4_sepconv1 (SeparableConv  (None, 20, 20, 728)  188672     ['block4_sepconv1_act[0][0]']    \n",
            " 2D)                                                                                              \n",
            "                                                                                                  \n",
            " block4_sepconv1_bn (BatchNorma  (None, 20, 20, 728)  2912       ['block4_sepconv1[0][0]']        \n",
            " lization)                                                                                        \n",
            "                                                                                                  \n",
            " block4_sepconv2_act (Activatio  (None, 20, 20, 728)  0          ['block4_sepconv1_bn[0][0]']     \n",
            " n)                                                                                               \n",
            "                                                                                                  \n",
            " block4_sepconv2 (SeparableConv  (None, 20, 20, 728)  536536     ['block4_sepconv2_act[0][0]']    \n",
            " 2D)                                                                                              \n",
            "                                                                                                  \n",
            " block4_sepconv2_bn (BatchNorma  (None, 20, 20, 728)  2912       ['block4_sepconv2[0][0]']        \n",
            " lization)                                                                                        \n",
            "                                                                                                  \n",
            " conv2d_2 (Conv2D)              (None, 10, 10, 728)  186368      ['add_1[0][0]']                  \n",
            "                                                                                                  \n",
            " block4_pool (MaxPooling2D)     (None, 10, 10, 728)  0           ['block4_sepconv2_bn[0][0]']     \n",
            "                                                                                                  \n",
            " batch_normalization_2 (BatchNo  (None, 10, 10, 728)  2912       ['conv2d_2[0][0]']               \n",
            " rmalization)                                                                                     \n",
            "                                                                                                  \n",
            " add_2 (Add)                    (None, 10, 10, 728)  0           ['block4_pool[0][0]',            \n",
            "                                                                  'batch_normalization_2[0][0]']  \n",
            "                                                                                                  \n",
            " block5_sepconv1_act (Activatio  (None, 10, 10, 728)  0          ['add_2[0][0]']                  \n",
            " n)                                                                                               \n",
            "                                                                                                  \n",
            " block5_sepconv1 (SeparableConv  (None, 10, 10, 728)  536536     ['block5_sepconv1_act[0][0]']    \n",
            " 2D)                                                                                              \n",
            "                                                                                                  \n",
            " block5_sepconv1_bn (BatchNorma  (None, 10, 10, 728)  2912       ['block5_sepconv1[0][0]']        \n",
            " lization)                                                                                        \n",
            "                                                                                                  \n",
            " block5_sepconv2_act (Activatio  (None, 10, 10, 728)  0          ['block5_sepconv1_bn[0][0]']     \n",
            " n)                                                                                               \n",
            "                                                                                                  \n",
            " block5_sepconv2 (SeparableConv  (None, 10, 10, 728)  536536     ['block5_sepconv2_act[0][0]']    \n",
            " 2D)                                                                                              \n",
            "                                                                                                  \n",
            " block5_sepconv2_bn (BatchNorma  (None, 10, 10, 728)  2912       ['block5_sepconv2[0][0]']        \n",
            " lization)                                                                                        \n",
            "                                                                                                  \n",
            " block5_sepconv3_act (Activatio  (None, 10, 10, 728)  0          ['block5_sepconv2_bn[0][0]']     \n",
            " n)                                                                                               \n",
            "                                                                                                  \n",
            " block5_sepconv3 (SeparableConv  (None, 10, 10, 728)  536536     ['block5_sepconv3_act[0][0]']    \n",
            " 2D)                                                                                              \n",
            "                                                                                                  \n",
            " block5_sepconv3_bn (BatchNorma  (None, 10, 10, 728)  2912       ['block5_sepconv3[0][0]']        \n",
            " lization)                                                                                        \n",
            "                                                                                                  \n",
            " add_3 (Add)                    (None, 10, 10, 728)  0           ['block5_sepconv3_bn[0][0]',     \n",
            "                                                                  'add_2[0][0]']                  \n",
            "                                                                                                  \n",
            " block6_sepconv1_act (Activatio  (None, 10, 10, 728)  0          ['add_3[0][0]']                  \n",
            " n)                                                                                               \n",
            "                                                                                                  \n",
            " block6_sepconv1 (SeparableConv  (None, 10, 10, 728)  536536     ['block6_sepconv1_act[0][0]']    \n",
            " 2D)                                                                                              \n",
            "                                                                                                  \n",
            " block6_sepconv1_bn (BatchNorma  (None, 10, 10, 728)  2912       ['block6_sepconv1[0][0]']        \n",
            " lization)                                                                                        \n",
            "                                                                                                  \n",
            " block6_sepconv2_act (Activatio  (None, 10, 10, 728)  0          ['block6_sepconv1_bn[0][0]']     \n",
            " n)                                                                                               \n",
            "                                                                                                  \n",
            " block6_sepconv2 (SeparableConv  (None, 10, 10, 728)  536536     ['block6_sepconv2_act[0][0]']    \n",
            " 2D)                                                                                              \n",
            "                                                                                                  \n",
            " block6_sepconv2_bn (BatchNorma  (None, 10, 10, 728)  2912       ['block6_sepconv2[0][0]']        \n",
            " lization)                                                                                        \n",
            "                                                                                                  \n",
            " block6_sepconv3_act (Activatio  (None, 10, 10, 728)  0          ['block6_sepconv2_bn[0][0]']     \n",
            " n)                                                                                               \n",
            "                                                                                                  \n",
            " block6_sepconv3 (SeparableConv  (None, 10, 10, 728)  536536     ['block6_sepconv3_act[0][0]']    \n",
            " 2D)                                                                                              \n",
            "                                                                                                  \n",
            " block6_sepconv3_bn (BatchNorma  (None, 10, 10, 728)  2912       ['block6_sepconv3[0][0]']        \n",
            " lization)                                                                                        \n",
            "                                                                                                  \n",
            " add_4 (Add)                    (None, 10, 10, 728)  0           ['block6_sepconv3_bn[0][0]',     \n",
            "                                                                  'add_3[0][0]']                  \n",
            "                                                                                                  \n",
            " block7_sepconv1_act (Activatio  (None, 10, 10, 728)  0          ['add_4[0][0]']                  \n",
            " n)                                                                                               \n",
            "                                                                                                  \n",
            " block7_sepconv1 (SeparableConv  (None, 10, 10, 728)  536536     ['block7_sepconv1_act[0][0]']    \n",
            " 2D)                                                                                              \n",
            "                                                                                                  \n",
            " block7_sepconv1_bn (BatchNorma  (None, 10, 10, 728)  2912       ['block7_sepconv1[0][0]']        \n",
            " lization)                                                                                        \n",
            "                                                                                                  \n",
            " block7_sepconv2_act (Activatio  (None, 10, 10, 728)  0          ['block7_sepconv1_bn[0][0]']     \n",
            " n)                                                                                               \n",
            "                                                                                                  \n",
            " block7_sepconv2 (SeparableConv  (None, 10, 10, 728)  536536     ['block7_sepconv2_act[0][0]']    \n",
            " 2D)                                                                                              \n",
            "                                                                                                  \n",
            " block7_sepconv2_bn (BatchNorma  (None, 10, 10, 728)  2912       ['block7_sepconv2[0][0]']        \n",
            " lization)                                                                                        \n",
            "                                                                                                  \n",
            " block7_sepconv3_act (Activatio  (None, 10, 10, 728)  0          ['block7_sepconv2_bn[0][0]']     \n",
            " n)                                                                                               \n",
            "                                                                                                  \n",
            " block7_sepconv3 (SeparableConv  (None, 10, 10, 728)  536536     ['block7_sepconv3_act[0][0]']    \n",
            " 2D)                                                                                              \n",
            "                                                                                                  \n",
            " block7_sepconv3_bn (BatchNorma  (None, 10, 10, 728)  2912       ['block7_sepconv3[0][0]']        \n",
            " lization)                                                                                        \n",
            "                                                                                                  \n",
            " add_5 (Add)                    (None, 10, 10, 728)  0           ['block7_sepconv3_bn[0][0]',     \n",
            "                                                                  'add_4[0][0]']                  \n",
            "                                                                                                  \n",
            " block8_sepconv1_act (Activatio  (None, 10, 10, 728)  0          ['add_5[0][0]']                  \n",
            " n)                                                                                               \n",
            "                                                                                                  \n",
            " block8_sepconv1 (SeparableConv  (None, 10, 10, 728)  536536     ['block8_sepconv1_act[0][0]']    \n",
            " 2D)                                                                                              \n",
            "                                                                                                  \n",
            " block8_sepconv1_bn (BatchNorma  (None, 10, 10, 728)  2912       ['block8_sepconv1[0][0]']        \n",
            " lization)                                                                                        \n",
            "                                                                                                  \n",
            " block8_sepconv2_act (Activatio  (None, 10, 10, 728)  0          ['block8_sepconv1_bn[0][0]']     \n",
            " n)                                                                                               \n",
            "                                                                                                  \n",
            " block8_sepconv2 (SeparableConv  (None, 10, 10, 728)  536536     ['block8_sepconv2_act[0][0]']    \n",
            " 2D)                                                                                              \n",
            "                                                                                                  \n",
            " block8_sepconv2_bn (BatchNorma  (None, 10, 10, 728)  2912       ['block8_sepconv2[0][0]']        \n",
            " lization)                                                                                        \n",
            "                                                                                                  \n",
            " block8_sepconv3_act (Activatio  (None, 10, 10, 728)  0          ['block8_sepconv2_bn[0][0]']     \n",
            " n)                                                                                               \n",
            "                                                                                                  \n",
            " block8_sepconv3 (SeparableConv  (None, 10, 10, 728)  536536     ['block8_sepconv3_act[0][0]']    \n",
            " 2D)                                                                                              \n",
            "                                                                                                  \n",
            " block8_sepconv3_bn (BatchNorma  (None, 10, 10, 728)  2912       ['block8_sepconv3[0][0]']        \n",
            " lization)                                                                                        \n",
            "                                                                                                  \n",
            " add_6 (Add)                    (None, 10, 10, 728)  0           ['block8_sepconv3_bn[0][0]',     \n",
            "                                                                  'add_5[0][0]']                  \n",
            "                                                                                                  \n",
            " block9_sepconv1_act (Activatio  (None, 10, 10, 728)  0          ['add_6[0][0]']                  \n",
            " n)                                                                                               \n",
            "                                                                                                  \n",
            " block9_sepconv1 (SeparableConv  (None, 10, 10, 728)  536536     ['block9_sepconv1_act[0][0]']    \n",
            " 2D)                                                                                              \n",
            "                                                                                                  \n",
            " block9_sepconv1_bn (BatchNorma  (None, 10, 10, 728)  2912       ['block9_sepconv1[0][0]']        \n",
            " lization)                                                                                        \n",
            "                                                                                                  \n",
            " block9_sepconv2_act (Activatio  (None, 10, 10, 728)  0          ['block9_sepconv1_bn[0][0]']     \n",
            " n)                                                                                               \n",
            "                                                                                                  \n",
            " block9_sepconv2 (SeparableConv  (None, 10, 10, 728)  536536     ['block9_sepconv2_act[0][0]']    \n",
            " 2D)                                                                                              \n",
            "                                                                                                  \n",
            " block9_sepconv2_bn (BatchNorma  (None, 10, 10, 728)  2912       ['block9_sepconv2[0][0]']        \n",
            " lization)                                                                                        \n",
            "                                                                                                  \n",
            " block9_sepconv3_act (Activatio  (None, 10, 10, 728)  0          ['block9_sepconv2_bn[0][0]']     \n",
            " n)                                                                                               \n",
            "                                                                                                  \n",
            " block9_sepconv3 (SeparableConv  (None, 10, 10, 728)  536536     ['block9_sepconv3_act[0][0]']    \n",
            " 2D)                                                                                              \n",
            "                                                                                                  \n",
            " block9_sepconv3_bn (BatchNorma  (None, 10, 10, 728)  2912       ['block9_sepconv3[0][0]']        \n",
            " lization)                                                                                        \n",
            "                                                                                                  \n",
            " add_7 (Add)                    (None, 10, 10, 728)  0           ['block9_sepconv3_bn[0][0]',     \n",
            "                                                                  'add_6[0][0]']                  \n",
            "                                                                                                  \n",
            " block10_sepconv1_act (Activati  (None, 10, 10, 728)  0          ['add_7[0][0]']                  \n",
            " on)                                                                                              \n",
            "                                                                                                  \n",
            " block10_sepconv1 (SeparableCon  (None, 10, 10, 728)  536536     ['block10_sepconv1_act[0][0]']   \n",
            " v2D)                                                                                             \n",
            "                                                                                                  \n",
            " block10_sepconv1_bn (BatchNorm  (None, 10, 10, 728)  2912       ['block10_sepconv1[0][0]']       \n",
            " alization)                                                                                       \n",
            "                                                                                                  \n",
            " block10_sepconv2_act (Activati  (None, 10, 10, 728)  0          ['block10_sepconv1_bn[0][0]']    \n",
            " on)                                                                                              \n",
            "                                                                                                  \n",
            " block10_sepconv2 (SeparableCon  (None, 10, 10, 728)  536536     ['block10_sepconv2_act[0][0]']   \n",
            " v2D)                                                                                             \n",
            "                                                                                                  \n",
            " block10_sepconv2_bn (BatchNorm  (None, 10, 10, 728)  2912       ['block10_sepconv2[0][0]']       \n",
            " alization)                                                                                       \n",
            "                                                                                                  \n",
            " block10_sepconv3_act (Activati  (None, 10, 10, 728)  0          ['block10_sepconv2_bn[0][0]']    \n",
            " on)                                                                                              \n",
            "                                                                                                  \n",
            " block10_sepconv3 (SeparableCon  (None, 10, 10, 728)  536536     ['block10_sepconv3_act[0][0]']   \n",
            " v2D)                                                                                             \n",
            "                                                                                                  \n",
            " block10_sepconv3_bn (BatchNorm  (None, 10, 10, 728)  2912       ['block10_sepconv3[0][0]']       \n",
            " alization)                                                                                       \n",
            "                                                                                                  \n",
            " add_8 (Add)                    (None, 10, 10, 728)  0           ['block10_sepconv3_bn[0][0]',    \n",
            "                                                                  'add_7[0][0]']                  \n",
            "                                                                                                  \n",
            " block11_sepconv1_act (Activati  (None, 10, 10, 728)  0          ['add_8[0][0]']                  \n",
            " on)                                                                                              \n",
            "                                                                                                  \n",
            " block11_sepconv1 (SeparableCon  (None, 10, 10, 728)  536536     ['block11_sepconv1_act[0][0]']   \n",
            " v2D)                                                                                             \n",
            "                                                                                                  \n",
            " block11_sepconv1_bn (BatchNorm  (None, 10, 10, 728)  2912       ['block11_sepconv1[0][0]']       \n",
            " alization)                                                                                       \n",
            "                                                                                                  \n",
            " block11_sepconv2_act (Activati  (None, 10, 10, 728)  0          ['block11_sepconv1_bn[0][0]']    \n",
            " on)                                                                                              \n",
            "                                                                                                  \n",
            " block11_sepconv2 (SeparableCon  (None, 10, 10, 728)  536536     ['block11_sepconv2_act[0][0]']   \n",
            " v2D)                                                                                             \n",
            "                                                                                                  \n",
            " block11_sepconv2_bn (BatchNorm  (None, 10, 10, 728)  2912       ['block11_sepconv2[0][0]']       \n",
            " alization)                                                                                       \n",
            "                                                                                                  \n",
            " block11_sepconv3_act (Activati  (None, 10, 10, 728)  0          ['block11_sepconv2_bn[0][0]']    \n",
            " on)                                                                                              \n",
            "                                                                                                  \n",
            " block11_sepconv3 (SeparableCon  (None, 10, 10, 728)  536536     ['block11_sepconv3_act[0][0]']   \n",
            " v2D)                                                                                             \n",
            "                                                                                                  \n",
            " block11_sepconv3_bn (BatchNorm  (None, 10, 10, 728)  2912       ['block11_sepconv3[0][0]']       \n",
            " alization)                                                                                       \n",
            "                                                                                                  \n",
            " add_9 (Add)                    (None, 10, 10, 728)  0           ['block11_sepconv3_bn[0][0]',    \n",
            "                                                                  'add_8[0][0]']                  \n",
            "                                                                                                  \n",
            " block12_sepconv1_act (Activati  (None, 10, 10, 728)  0          ['add_9[0][0]']                  \n",
            " on)                                                                                              \n",
            "                                                                                                  \n",
            " block12_sepconv1 (SeparableCon  (None, 10, 10, 728)  536536     ['block12_sepconv1_act[0][0]']   \n",
            " v2D)                                                                                             \n",
            "                                                                                                  \n",
            " block12_sepconv1_bn (BatchNorm  (None, 10, 10, 728)  2912       ['block12_sepconv1[0][0]']       \n",
            " alization)                                                                                       \n",
            "                                                                                                  \n",
            " block12_sepconv2_act (Activati  (None, 10, 10, 728)  0          ['block12_sepconv1_bn[0][0]']    \n",
            " on)                                                                                              \n",
            "                                                                                                  \n",
            " block12_sepconv2 (SeparableCon  (None, 10, 10, 728)  536536     ['block12_sepconv2_act[0][0]']   \n",
            " v2D)                                                                                             \n",
            "                                                                                                  \n",
            " block12_sepconv2_bn (BatchNorm  (None, 10, 10, 728)  2912       ['block12_sepconv2[0][0]']       \n",
            " alization)                                                                                       \n",
            "                                                                                                  \n",
            " block12_sepconv3_act (Activati  (None, 10, 10, 728)  0          ['block12_sepconv2_bn[0][0]']    \n",
            " on)                                                                                              \n",
            "                                                                                                  \n",
            " block12_sepconv3 (SeparableCon  (None, 10, 10, 728)  536536     ['block12_sepconv3_act[0][0]']   \n",
            " v2D)                                                                                             \n",
            "                                                                                                  \n",
            " block12_sepconv3_bn (BatchNorm  (None, 10, 10, 728)  2912       ['block12_sepconv3[0][0]']       \n",
            " alization)                                                                                       \n",
            "                                                                                                  \n",
            " add_10 (Add)                   (None, 10, 10, 728)  0           ['block12_sepconv3_bn[0][0]',    \n",
            "                                                                  'add_9[0][0]']                  \n",
            "                                                                                                  \n",
            " block13_sepconv1_act (Activati  (None, 10, 10, 728)  0          ['add_10[0][0]']                 \n",
            " on)                                                                                              \n",
            "                                                                                                  \n",
            " block13_sepconv1 (SeparableCon  (None, 10, 10, 728)  536536     ['block13_sepconv1_act[0][0]']   \n",
            " v2D)                                                                                             \n",
            "                                                                                                  \n",
            " block13_sepconv1_bn (BatchNorm  (None, 10, 10, 728)  2912       ['block13_sepconv1[0][0]']       \n",
            " alization)                                                                                       \n",
            "                                                                                                  \n",
            " block13_sepconv2_act (Activati  (None, 10, 10, 728)  0          ['block13_sepconv1_bn[0][0]']    \n",
            " on)                                                                                              \n",
            "                                                                                                  \n",
            " block13_sepconv2 (SeparableCon  (None, 10, 10, 1024  752024     ['block13_sepconv2_act[0][0]']   \n",
            " v2D)                           )                                                                 \n",
            "                                                                                                  \n",
            " block13_sepconv2_bn (BatchNorm  (None, 10, 10, 1024  4096       ['block13_sepconv2[0][0]']       \n",
            " alization)                     )                                                                 \n",
            "                                                                                                  \n",
            " conv2d_3 (Conv2D)              (None, 5, 5, 1024)   745472      ['add_10[0][0]']                 \n",
            "                                                                                                  \n",
            " block13_pool (MaxPooling2D)    (None, 5, 5, 1024)   0           ['block13_sepconv2_bn[0][0]']    \n",
            "                                                                                                  \n",
            " batch_normalization_3 (BatchNo  (None, 5, 5, 1024)  4096        ['conv2d_3[0][0]']               \n",
            " rmalization)                                                                                     \n",
            "                                                                                                  \n",
            " add_11 (Add)                   (None, 5, 5, 1024)   0           ['block13_pool[0][0]',           \n",
            "                                                                  'batch_normalization_3[0][0]']  \n",
            "                                                                                                  \n",
            " block14_sepconv1 (SeparableCon  (None, 5, 5, 1536)  1582080     ['add_11[0][0]']                 \n",
            " v2D)                                                                                             \n",
            "                                                                                                  \n",
            " block14_sepconv1_bn (BatchNorm  (None, 5, 5, 1536)  6144        ['block14_sepconv1[0][0]']       \n",
            " alization)                                                                                       \n",
            "                                                                                                  \n",
            " block14_sepconv1_act (Activati  (None, 5, 5, 1536)  0           ['block14_sepconv1_bn[0][0]']    \n",
            " on)                                                                                              \n",
            "                                                                                                  \n",
            " block14_sepconv2 (SeparableCon  (None, 5, 5, 2048)  3159552     ['block14_sepconv1_act[0][0]']   \n",
            " v2D)                                                                                             \n",
            "                                                                                                  \n",
            " block14_sepconv2_bn (BatchNorm  (None, 5, 5, 2048)  8192        ['block14_sepconv2[0][0]']       \n",
            " alization)                                                                                       \n",
            "                                                                                                  \n",
            " block14_sepconv2_act (Activati  (None, 5, 5, 2048)  0           ['block14_sepconv2_bn[0][0]']    \n",
            " on)                                                                                              \n",
            "                                                                                                  \n",
            "==================================================================================================\n",
            "Total params: 20,861,480\n",
            "Trainable params: 0\n",
            "Non-trainable params: 20,861,480\n",
            "__________________________________________________________________________________________________\n"
          ]
        }
      ],
      "source": [
        "pre_trained_model = create_pre_trained_model(Xception)\n",
        "\n",
        "# Print the model summary\n",
        "pre_trained_model.summary()"
      ],
      "id": "ve7eh9iztT4q"
    },
    {
      "cell_type": "markdown",
      "metadata": {
        "id": "4cAY2gQytr0-"
      },
      "source": [
        "**Expected Output:**\n",
        "```\n",
        "batch_normalization_v1_281 (Bat (None, 3, 3, 192)    576         conv2d_281[0][0]                 \n",
        "__________________________________________________________________________________________________\n",
        "activation_273 (Activation)     (None, 3, 3, 320)    0           batch_normalization_v1_273[0][0] \n",
        "__________________________________________________________________________________________________\n",
        "mixed9_1 (Concatenate)          (None, 3, 3, 768)    0           activation_275[0][0]             \n",
        "                                                                activation_276[0][0]             \n",
        "__________________________________________________________________________________________________\n",
        "concatenate_5 (Concatenate)     (None, 3, 3, 768)    0           activation_279[0][0]             \n",
        "                                                                activation_280[0][0]             \n",
        "__________________________________________________________________________________________________\n",
        "activation_281 (Activation)     (None, 3, 3, 192)    0           batch_normalization_v1_281[0][0] \n",
        "__________________________________________________________________________________________________\n",
        "mixed10 (Concatenate)           (None, 3, 3, 2048)   0           activation_273[0][0]             \n",
        "                                                                mixed9_1[0][0]                   \n",
        "                                                                concatenate_5[0][0]              \n",
        "                                                                activation_281[0][0]             \n",
        "==================================================================================================\n",
        "Total params: 21,802,784\n",
        "Trainable params: 0\n",
        "Non-trainable params: 21,802,784\n",
        "\n",
        "\n",
        "```"
      ],
      "id": "4cAY2gQytr0-"
    },
    {
      "cell_type": "markdown",
      "metadata": {
        "id": "MRHkV9jo-hkh"
      },
      "source": [
        "To check that all the layers in the model were set to be non-trainable, you can also run the cell below:"
      ],
      "id": "MRHkV9jo-hkh"
    },
    {
      "cell_type": "code",
      "execution_count": 19,
      "metadata": {
        "colab": {
          "base_uri": "https://localhost:8080/"
        },
        "id": "VASOaB8xDbhU",
        "outputId": "7df3895b-89b1-4a1d-9544-90a9b74fae2c"
      },
      "outputs": [
        {
          "output_type": "stream",
          "name": "stdout",
          "text": [
            "There are 20,861,480 total parameters in this model.\n",
            "There are 0 trainable parameters in this model.\n"
          ]
        }
      ],
      "source": [
        "total_params = pre_trained_model.count_params()\n",
        "num_trainable_params = sum([w.shape.num_elements() for w in pre_trained_model.trainable_weights])\n",
        "\n",
        "print(f\"There are {total_params:,} total parameters in this model.\")\n",
        "print(f\"There are {num_trainable_params:,} trainable parameters in this model.\")"
      ],
      "id": "VASOaB8xDbhU"
    },
    {
      "cell_type": "markdown",
      "metadata": {
        "id": "mRioO7FH5a8I"
      },
      "source": [
        "**Expected Output:**\n",
        "```\n",
        "There are 21,802,784 total parameters in this model.\n",
        "There are 0 trainable parameters in this model.\n",
        "```"
      ],
      "id": "mRioO7FH5a8I"
    },
    {
      "cell_type": "markdown",
      "metadata": {
        "id": "dFtwDyKj-4GR"
      },
      "source": [
        "## Creating callbacks for later\n",
        "\n",
        "You have already worked with callbacks in the first course of this specialization so the callback to stop training once an accuracy of 99.9% is reached, is provided for you:"
      ],
      "id": "dFtwDyKj-4GR"
    },
    {
      "cell_type": "code",
      "execution_count": null,
      "metadata": {
        "id": "SeVjZD2o7gWS"
      },
      "outputs": [],
      "source": [
        "# Define a Callback class that stops training once accuracy reaches 99.9%\n",
        "class myCallback(tf.keras.callbacks.Callback):\n",
        "  def on_epoch_end(self, epoch, logs={}):\n",
        "    if(logs.get('accuracy')>0.999):\n",
        "      print(\"\\nReached 99.9% accuracy so cancelling training!\")\n",
        "      self.model.stop_training = True"
      ],
      "id": "SeVjZD2o7gWS"
    },
    {
      "cell_type": "markdown",
      "metadata": {
        "id": "lHZnFl-5_p3a"
      },
      "source": [
        "## Pipelining the pre-trained model with your own\n",
        "\n",
        "Now that the pre-trained model is ready, you need to \"glue\" it to your own model to solve the task at hand.\n",
        "\n",
        "For this you will need the last output of the pre-trained model, since this will be the input for your own. Complete the `output_of_last_layer` function below.\n",
        "\n",
        "**Note:** For grading purposes use the `mixed7` layer as the last layer of the pre-trained model. However, after submitting feel free to come back here and play around with this."
      ],
      "id": "lHZnFl-5_p3a"
    },
    {
      "cell_type": "code",
      "execution_count": 20,
      "metadata": {
        "id": "CFsUlwdfs_wg"
      },
      "outputs": [],
      "source": [
        "# GRADED FUNCTION: output_of_last_layer\n",
        "def output_of_last_layer(pre_trained_model, last_layer_name):\n",
        "  ### START CODE HERE\n",
        "  last_desired_layer = pre_trained_model.get_layer(last_layer_name)\n",
        "  print('last layer output shape: ', last_desired_layer.output_shape)\n",
        "  last_output = last_desired_layer.output\n",
        "  print('last layer output: ', last_output)\n",
        "  ### END CODE HERE\n",
        "\n",
        "  return last_output\n"
      ],
      "id": "CFsUlwdfs_wg"
    },
    {
      "cell_type": "markdown",
      "metadata": {
        "id": "13AEzKG2A6_J"
      },
      "source": [
        "Check that everything works as expected:"
      ],
      "id": "13AEzKG2A6_J"
    },
    {
      "cell_type": "code",
      "execution_count": 21,
      "metadata": {
        "colab": {
          "base_uri": "https://localhost:8080/"
        },
        "id": "zOJPUtMN6PHo",
        "outputId": "7accc15c-3305-42b8-cf4b-53e8c7ce389a"
      },
      "outputs": [
        {
          "output_type": "stream",
          "name": "stdout",
          "text": [
            "last layer output shape:  (None, 5, 5, 2048)\n",
            "last layer output:  KerasTensor(type_spec=TensorSpec(shape=(None, 5, 5, 2048), dtype=tf.float32, name=None), name='block14_sepconv2_act/Relu:0', description=\"created by layer 'block14_sepconv2_act'\")\n"
          ]
        }
      ],
      "source": [
        "last_output = output_of_last_layer(pre_trained_model, \"block14_sepconv2_act\")"
      ],
      "id": "zOJPUtMN6PHo"
    },
    {
      "cell_type": "markdown",
      "metadata": {
        "id": "XqIWKZ_h7CuY"
      },
      "source": [
        "**Expected Output (if `mixed7` layer was used):**\n",
        "```\n",
        "last layer output shape:  (None, 7, 7, 768)\n",
        "last layer output:  KerasTensor(type_spec=TensorSpec(shape=(None, 7, 7, 768), dtype=tf.float32, name=None), name='mixed7/concat:0', description=\"created by layer 'mixed7'\")\n",
        "```"
      ],
      "id": "XqIWKZ_h7CuY"
    },
    {
      "cell_type": "markdown",
      "metadata": {
        "id": "0Rp-J6JuwJTq"
      },
      "source": [
        "Now you will create the final model by adding some additional layers on top of the pre-trained model.\n",
        "\n",
        "Complete the `create_final_model` function below. You will need to use Tensorflow's [Functional API](https://www.tensorflow.org/guide/keras/functional) for this since the pretrained model has been created using it. \n",
        "\n",
        "Let's double check this first:"
      ],
      "id": "0Rp-J6JuwJTq"
    },
    {
      "cell_type": "code",
      "execution_count": null,
      "metadata": {
        "colab": {
          "base_uri": "https://localhost:8080/"
        },
        "id": "cKQknB4j7K9y",
        "outputId": "a714acef-28a9-4540-b118-1d19a74e3ed7"
      },
      "outputs": [
        {
          "output_type": "stream",
          "name": "stdout",
          "text": [
            "The pretrained model has type: <class 'keras.engine.functional.Functional'>\n"
          ]
        }
      ],
      "source": [
        "# Print the type of the pre-trained model\n",
        "print(f\"The pretrained model has type: {type(pre_trained_model)}\")"
      ],
      "id": "cKQknB4j7K9y"
    },
    {
      "cell_type": "markdown",
      "metadata": {
        "id": "Kt7AU7jP7LW9"
      },
      "source": [
        "To create the final model, you will use Keras' Model class by defining the appropriate inputs and outputs as described in the first way to instantiate a Model in the [docs](https://www.tensorflow.org/api_docs/python/tf/keras/Model).\n",
        "\n",
        "Note that you can get the input from any existing model by using its `input` attribute and by using the Funcional API you can use the last layer directly as output when creating the final model."
      ],
      "id": "Kt7AU7jP7LW9"
    },
    {
      "cell_type": "code",
      "execution_count": 22,
      "metadata": {
        "cellView": "code",
        "id": "BMXb913pbvFg"
      },
      "outputs": [],
      "source": [
        "# GRADED FUNCTION: create_final_model\n",
        "def create_final_model(pre_trained_model, last_output):\n",
        "  # Flatten the output layer to 1 dimension\n",
        "  x = layers.Flatten()(last_output)\n",
        "\n",
        "  ### START CODE HERE\n",
        "\n",
        "  # Add a fully connected layer with 1024 hidden units and ReLU activation\n",
        "  x = layers.Dense(1024, activation='relu')(x)\n",
        "  # Add a dropout rate of 0.3\n",
        "  x = layers.Dropout(0.3)(x)    \n",
        "  # Add a fully connected layer with 1024 hidden units and ReLU activation\n",
        "  x = layers.Dense(512, activation='relu')(x)\n",
        "  # Add a dropout rate of 0.3 \n",
        "  x = layers.Dropout(0.3)(x)   \n",
        "  # Add a final dense sigmoid layer\n",
        "  x = layers.Dense  (29, activation='softmax')(x)\n",
        "\n",
        "\n",
        "  # Create the complete model by using the Model class\n",
        "  model = Model(inputs=pre_trained_model.input, outputs=x)\n",
        "\n",
        "  # Compile the model\n",
        "  model.compile(optimizer = 'Adam', \n",
        "                loss = 'categorical_crossentropy', \n",
        "                metrics = ['accuracy'])\n",
        "  ### END CODE HERE\n",
        "  \n",
        "  return model\n"
      ],
      "id": "BMXb913pbvFg"
    },
    {
      "cell_type": "code",
      "execution_count": 23,
      "metadata": {
        "colab": {
          "base_uri": "https://localhost:8080/"
        },
        "id": "cL6ga5Z1783H",
        "outputId": "3dec7b20-8c6b-4e22-baab-d33ab9cb8985"
      },
      "outputs": [
        {
          "output_type": "stream",
          "name": "stdout",
          "text": [
            "There are 73,830,981 total parameters in this model.\n",
            "There are 52,969,501 trainable parameters in this model.\n"
          ]
        }
      ],
      "source": [
        "# Save your model in a variable\n",
        "model = create_final_model(pre_trained_model, last_output)\n",
        "\n",
        "# Inspect parameters\n",
        "total_params = model.count_params()\n",
        "num_trainable_params = sum([w.shape.num_elements() for w in model.trainable_weights])\n",
        "\n",
        "print(f\"There are {total_params:,} total parameters in this model.\")\n",
        "print(f\"There are {num_trainable_params:,} trainable parameters in this model.\")"
      ],
      "id": "cL6ga5Z1783H"
    },
    {
      "cell_type": "markdown",
      "metadata": {
        "id": "J4d3zlcQDrvm"
      },
      "source": [
        "**Expected Output:**\n",
        "```\n",
        "There are 47,512,481 total parameters in this model.\n",
        "There are 38,537,217 trainable parameters in this model.\n",
        "```"
      ],
      "id": "J4d3zlcQDrvm"
    },
    {
      "cell_type": "markdown",
      "metadata": {
        "id": "_eqwHj5xEBZ7"
      },
      "source": [
        "Wow, that is a lot of parameters!\n",
        "\n",
        "After submitting your assignment later, try re-running this notebook but use the original resolution of 300x300, you will be surprised to see how many more parameters are for that case.\n",
        "\n",
        "Now train the model:"
      ],
      "id": "_eqwHj5xEBZ7"
    },
    {
      "cell_type": "code",
      "execution_count": 24,
      "metadata": {
        "colab": {
          "base_uri": "https://localhost:8080/"
        },
        "id": "Blhq2MAUeyGA",
        "scrolled": true,
        "outputId": "ab942da6-5e6c-4dc2-82e7-e252f901031e"
      },
      "outputs": [
        {
          "output_type": "stream",
          "name": "stdout",
          "text": [
            "Epoch 1/10\n",
            "257/257 [==============================] - 94s 315ms/step - loss: 2.9281 - accuracy: 0.2725 - val_loss: 2.3203 - val_accuracy: 0.3137\n",
            "Epoch 2/10\n",
            "257/257 [==============================] - 84s 325ms/step - loss: 2.1199 - accuracy: 0.3725 - val_loss: 2.0639 - val_accuracy: 0.3725\n",
            "Epoch 3/10\n",
            "257/257 [==============================] - 79s 307ms/step - loss: 1.9223 - accuracy: 0.4154 - val_loss: 1.9462 - val_accuracy: 0.3915\n",
            "Epoch 4/10\n",
            "257/257 [==============================] - 78s 304ms/step - loss: 1.8401 - accuracy: 0.4378 - val_loss: 1.9101 - val_accuracy: 0.4148\n",
            "Epoch 5/10\n",
            "257/257 [==============================] - 79s 307ms/step - loss: 1.7708 - accuracy: 0.4527 - val_loss: 1.7996 - val_accuracy: 0.4395\n",
            "Epoch 6/10\n",
            "257/257 [==============================] - 79s 307ms/step - loss: 1.7186 - accuracy: 0.4575 - val_loss: 1.8524 - val_accuracy: 0.4230\n",
            "Epoch 7/10\n",
            "257/257 [==============================] - 79s 308ms/step - loss: 1.6946 - accuracy: 0.4686 - val_loss: 1.7674 - val_accuracy: 0.4594\n",
            "Epoch 8/10\n",
            "257/257 [==============================] - 79s 308ms/step - loss: 1.6516 - accuracy: 0.4845 - val_loss: 1.7812 - val_accuracy: 0.4619\n",
            "Epoch 9/10\n",
            "257/257 [==============================] - 81s 314ms/step - loss: 1.6438 - accuracy: 0.4792 - val_loss: 1.6836 - val_accuracy: 0.4730\n",
            "Epoch 10/10\n",
            "257/257 [==============================] - 82s 317ms/step - loss: 1.6507 - accuracy: 0.4790 - val_loss: 1.6986 - val_accuracy: 0.4711\n"
          ]
        }
      ],
      "source": [
        "# Run this and see how many epochs it should take before the callback\n",
        "# fires, and stops training at 99.9% accuracy\n",
        "# (It should take a few epochs)\n",
        "#callbacks = myCallback()\n",
        "history = model.fit(train_generator,\n",
        "                    validation_data = validation_generator,\n",
        "                    epochs = 10,\n",
        "                    verbose = 1)"
      ],
      "id": "Blhq2MAUeyGA"
    },
    {
      "cell_type": "markdown",
      "metadata": {
        "id": "Y94djl4t0sK5"
      },
      "source": [
        "The training should have stopped after less than 10 epochs and it should have reached an accuracy over 99,9% (firing the callback). This happened so quickly because of the pre-trained model you used, which already contained information to classify humans from horses. Really cool!\n",
        "\n",
        "Now take a quick look at the training and validation accuracies for each epoch of training:"
      ],
      "id": "Y94djl4t0sK5"
    },
    {
      "cell_type": "code",
      "execution_count": 25,
      "metadata": {
        "id": "C2Fp6Se9rKuL",
        "colab": {
          "base_uri": "https://localhost:8080/",
          "height": 299
        },
        "outputId": "298d4aa8-c5f4-458b-c22a-40d792665b74"
      },
      "outputs": [
        {
          "output_type": "display_data",
          "data": {
            "text/plain": [
              "<Figure size 432x288 with 1 Axes>"
            ],
            "image/png": "[encoded data removed]"
          },
          "metadata": {
            "needs_background": "light"
          }
        },
        {
          "output_type": "display_data",
          "data": {
            "text/plain": [
              "<Figure size 432x288 with 0 Axes>"
            ]
          },
          "metadata": {}
        }
      ],
      "source": [
        "# Plot the training and validation accuracies for each epoch\n",
        "\n",
        "acc = history.history['accuracy']\n",
        "val_acc = history.history['val_accuracy']\n",
        "loss = history.history['loss']\n",
        "val_loss = history.history['val_loss']\n",
        "\n",
        "epochs = range(len(acc))\n",
        "\n",
        "plt.plot(epochs, acc, 'r', label='Training accuracy')\n",
        "plt.plot(epochs, val_acc, 'b', label='Validation accuracy')\n",
        "plt.title('Training and validation accuracy')\n",
        "plt.legend(loc=0)\n",
        "plt.figure()\n",
        "\n",
        "plt.show()"
      ],
      "id": "C2Fp6Se9rKuL"
    },
    {
      "cell_type": "code",
      "source": [
        "import keras"
      ],
      "metadata": {
        "id": "cI1rnml6szge"
      },
      "id": "cI1rnml6szge",
      "execution_count": null,
      "outputs": []
    },
    {
      "cell_type": "code",
      "source": [
        "from tensorflow.keras.callbacks import EarlyStopping"
      ],
      "metadata": {
        "id": "3FqoFvnBXNH_"
      },
      "id": "3FqoFvnBXNH_",
      "execution_count": null,
      "outputs": []
    },
    {
      "cell_type": "code",
      "source": [
        "early_stopping_monitor = EarlyStopping(\n",
        "    monitor='val_loss',\n",
        "    min_delta=0,\n",
        "    patience=0,\n",
        "    verbose=0,\n",
        "    mode='auto',\n",
        "    baseline=None,\n",
        "    restore_best_weights=True\n",
        ")"
      ],
      "metadata": {
        "id": "IW2RhjSeW4xF"
      },
      "id": "IW2RhjSeW4xF",
      "execution_count": null,
      "outputs": []
    },
    {
      "cell_type": "code",
      "execution_count": 27,
      "metadata": {
        "id": "BqylbfYzGYhz"
      },
      "outputs": [],
      "source": [
        "#Checkpoint In the /output folder\n",
        "filepath = '/content/drive/MyDrive/best_model_lulc_xception.hdf5'\n",
        "# Keep only a single checkpoint, the best over test accuracy.\n",
        "checkpoint = tf.keras.callbacks.ModelCheckpoint(filepath, monitor='val_accuracy', verbose=1, save_best_only=True, mode='max')"
      ],
      "id": "BqylbfYzGYhz"
    },
    {
      "cell_type": "code",
      "source": [
        "model.trainable = True\n",
        "#model.summary()\n",
        "\n",
        "model.compile(\n",
        "    optimizer=tf.keras.optimizers.Adam(1e-4),  # Low learning rate\n",
        "    loss = 'categorical_crossentropy', \n",
        "    metrics = ['accuracy']\n",
        ")\n",
        "\n",
        "epochs = 10\n",
        "history_fine = model.fit(train_generator,\n",
        "                    validation_data = validation_generator,\n",
        "                    initial_epoch = history.epoch[-1],\n",
        "                    epochs = 35,\n",
        "                    verbose = 1,\n",
        "                    callbacks=[checkpoint])"
      ],
      "metadata": {
        "id": "n2H1TNO1srtq",
        "colab": {
          "base_uri": "https://localhost:8080/"
        },
        "outputId": "d11449f5-8dad-4070-e3cd-201b9d17a9ba"
      },
      "id": "n2H1TNO1srtq",
      "execution_count": 28,
      "outputs": [
        {
          "output_type": "stream",
          "name": "stdout",
          "text": [
            "Epoch 10/35\n",
            "257/257 [==============================] - ETA: 0s - loss: 1.9110 - accuracy: 0.4171\n",
            "Epoch 10: val_accuracy improved from -inf to 0.53230, saving model to /content/drive/MyDrive/best_model_lulc_xception.hdf5\n",
            "257/257 [==============================] - 180s 668ms/step - loss: 1.9110 - accuracy: 0.4171 - val_loss: 1.4226 - val_accuracy: 0.5323\n",
            "Epoch 11/35\n",
            "257/257 [==============================] - ETA: 0s - loss: 1.0465 - accuracy: 0.6441\n",
            "Epoch 11: val_accuracy improved from 0.53230 to 0.63866, saving model to /content/drive/MyDrive/best_model_lulc_xception.hdf5\n",
            "257/257 [==============================] - 174s 677ms/step - loss: 1.0465 - accuracy: 0.6441 - val_loss: 1.0411 - val_accuracy: 0.6387\n",
            "Epoch 12/35\n",
            "257/257 [==============================] - ETA: 0s - loss: 0.8029 - accuracy: 0.7290\n",
            "Epoch 12: val_accuracy improved from 0.63866 to 0.73677, saving model to /content/drive/MyDrive/best_model_lulc_xception.hdf5\n",
            "257/257 [==============================] - 175s 679ms/step - loss: 0.8029 - accuracy: 0.7290 - val_loss: 0.7557 - val_accuracy: 0.7368\n",
            "Epoch 13/35\n",
            "257/257 [==============================] - ETA: 0s - loss: 0.6570 - accuracy: 0.7760\n",
            "Epoch 13: val_accuracy did not improve from 0.73677\n",
            "257/257 [==============================] - 166s 643ms/step - loss: 0.6570 - accuracy: 0.7760 - val_loss: 0.8385 - val_accuracy: 0.7334\n",
            "Epoch 14/35\n",
            "257/257 [==============================] - ETA: 0s - loss: 0.5732 - accuracy: 0.8049\n",
            "Epoch 14: val_accuracy improved from 0.73677 to 0.76979, saving model to /content/drive/MyDrive/best_model_lulc_xception.hdf5\n",
            "257/257 [==============================] - 175s 679ms/step - loss: 0.5732 - accuracy: 0.8049 - val_loss: 0.7101 - val_accuracy: 0.7698\n",
            "Epoch 15/35\n",
            "257/257 [==============================] - ETA: 0s - loss: 0.5283 - accuracy: 0.8249\n",
            "Epoch 15: val_accuracy improved from 0.76979 to 0.79699, saving model to /content/drive/MyDrive/best_model_lulc_xception.hdf5\n",
            "257/257 [==============================] - 176s 683ms/step - loss: 0.5283 - accuracy: 0.8249 - val_loss: 0.6191 - val_accuracy: 0.7970\n",
            "Epoch 16/35\n",
            "257/257 [==============================] - ETA: 0s - loss: 0.4577 - accuracy: 0.8456\n",
            "Epoch 16: val_accuracy improved from 0.79699 to 0.80719, saving model to /content/drive/MyDrive/best_model_lulc_xception.hdf5\n",
            "257/257 [==============================] - 175s 679ms/step - loss: 0.4577 - accuracy: 0.8456 - val_loss: 0.6237 - val_accuracy: 0.8072\n",
            "Epoch 17/35\n",
            "257/257 [==============================] - ETA: 0s - loss: 0.4079 - accuracy: 0.8637\n",
            "Epoch 17: val_accuracy did not improve from 0.80719\n",
            "257/257 [==============================] - 165s 642ms/step - loss: 0.4079 - accuracy: 0.8637 - val_loss: 0.6585 - val_accuracy: 0.8067\n",
            "Epoch 18/35\n",
            "257/257 [==============================] - ETA: 0s - loss: 0.3865 - accuracy: 0.8719\n",
            "Epoch 18: val_accuracy improved from 0.80719 to 0.80913, saving model to /content/drive/MyDrive/best_model_lulc_xception.hdf5\n",
            "257/257 [==============================] - 174s 677ms/step - loss: 0.3865 - accuracy: 0.8719 - val_loss: 0.6253 - val_accuracy: 0.8091\n",
            "Epoch 19/35\n",
            "257/257 [==============================] - ETA: 0s - loss: 0.3557 - accuracy: 0.8816\n",
            "Epoch 19: val_accuracy did not improve from 0.80913\n",
            "257/257 [==============================] - 166s 644ms/step - loss: 0.3557 - accuracy: 0.8816 - val_loss: 0.6986 - val_accuracy: 0.8072\n",
            "Epoch 20/35\n",
            "257/257 [==============================] - ETA: 0s - loss: 0.3248 - accuracy: 0.8922\n",
            "Epoch 20: val_accuracy improved from 0.80913 to 0.81059, saving model to /content/drive/MyDrive/best_model_lulc_xception.hdf5\n",
            "257/257 [==============================] - 175s 679ms/step - loss: 0.3248 - accuracy: 0.8922 - val_loss: 0.6787 - val_accuracy: 0.8106\n",
            "Epoch 21/35\n",
            "257/257 [==============================] - ETA: 0s - loss: 0.2954 - accuracy: 0.8985\n",
            "Epoch 21: val_accuracy did not improve from 0.81059\n",
            "257/257 [==============================] - 166s 644ms/step - loss: 0.2954 - accuracy: 0.8985 - val_loss: 0.8010 - val_accuracy: 0.7931\n",
            "Epoch 22/35\n",
            "257/257 [==============================] - ETA: 0s - loss: 0.2902 - accuracy: 0.8984\n",
            "Epoch 22: val_accuracy improved from 0.81059 to 0.83001, saving model to /content/drive/MyDrive/best_model_lulc_xception.hdf5\n",
            "257/257 [==============================] - 174s 677ms/step - loss: 0.2902 - accuracy: 0.8984 - val_loss: 0.6670 - val_accuracy: 0.8300\n",
            "Epoch 23/35\n",
            "257/257 [==============================] - ETA: 0s - loss: 0.2731 - accuracy: 0.9042\n",
            "Epoch 23: val_accuracy did not improve from 0.83001\n",
            "257/257 [==============================] - 166s 644ms/step - loss: 0.2731 - accuracy: 0.9042 - val_loss: 0.7117 - val_accuracy: 0.8150\n",
            "Epoch 24/35\n",
            "257/257 [==============================] - ETA: 0s - loss: 0.2569 - accuracy: 0.9128\n",
            "Epoch 24: val_accuracy did not improve from 0.83001\n",
            "257/257 [==============================] - 165s 641ms/step - loss: 0.2569 - accuracy: 0.9128 - val_loss: 0.6948 - val_accuracy: 0.8091\n",
            "Epoch 25/35\n",
            "257/257 [==============================] - ETA: 0s - loss: 0.2507 - accuracy: 0.9146\n",
            "Epoch 25: val_accuracy did not improve from 0.83001\n",
            "257/257 [==============================] - 165s 642ms/step - loss: 0.2507 - accuracy: 0.9146 - val_loss: 0.6988 - val_accuracy: 0.8082\n",
            "Epoch 26/35\n",
            "257/257 [==============================] - ETA: 0s - loss: 0.2357 - accuracy: 0.9217\n",
            "Epoch 26: val_accuracy did not improve from 0.83001\n",
            "257/257 [==============================] - 165s 642ms/step - loss: 0.2357 - accuracy: 0.9217 - val_loss: 0.7065 - val_accuracy: 0.8256\n",
            "Epoch 27/35\n",
            "257/257 [==============================] - ETA: 0s - loss: 0.2241 - accuracy: 0.9251\n",
            "Epoch 27: val_accuracy did not improve from 0.83001\n",
            "257/257 [==============================] - 165s 642ms/step - loss: 0.2241 - accuracy: 0.9251 - val_loss: 0.7871 - val_accuracy: 0.8067\n",
            "Epoch 28/35\n",
            "257/257 [==============================] - ETA: 0s - loss: 0.2125 - accuracy: 0.9263\n",
            "Epoch 28: val_accuracy did not improve from 0.83001\n",
            "257/257 [==============================] - 165s 640ms/step - loss: 0.2125 - accuracy: 0.9263 - val_loss: 0.8393 - val_accuracy: 0.8252\n",
            "Epoch 29/35\n",
            "257/257 [==============================] - ETA: 0s - loss: 0.2182 - accuracy: 0.9288\n",
            "Epoch 29: val_accuracy did not improve from 0.83001\n",
            "257/257 [==============================] - 165s 640ms/step - loss: 0.2182 - accuracy: 0.9288 - val_loss: 0.8357 - val_accuracy: 0.8164\n",
            "Epoch 30/35\n",
            "257/257 [==============================] - ETA: 0s - loss: 0.1954 - accuracy: 0.9355\n",
            "Epoch 30: val_accuracy did not improve from 0.83001\n",
            "257/257 [==============================] - 165s 642ms/step - loss: 0.1954 - accuracy: 0.9355 - val_loss: 0.8062 - val_accuracy: 0.8145\n",
            "Epoch 31/35\n",
            "257/257 [==============================] - ETA: 0s - loss: 0.1879 - accuracy: 0.9346\n",
            "Epoch 31: val_accuracy did not improve from 0.83001\n",
            "257/257 [==============================] - 165s 640ms/step - loss: 0.1879 - accuracy: 0.9346 - val_loss: 0.7340 - val_accuracy: 0.8266\n",
            "Epoch 32/35\n",
            "257/257 [==============================] - ETA: 0s - loss: 0.1659 - accuracy: 0.9449\n",
            "Epoch 32: val_accuracy did not improve from 0.83001\n",
            "257/257 [==============================] - 165s 641ms/step - loss: 0.1659 - accuracy: 0.9449 - val_loss: 0.9262 - val_accuracy: 0.7994\n",
            "Epoch 33/35\n",
            "257/257 [==============================] - ETA: 0s - loss: 0.1760 - accuracy: 0.9397\n",
            "Epoch 33: val_accuracy did not improve from 0.83001\n",
            "257/257 [==============================] - 165s 642ms/step - loss: 0.1760 - accuracy: 0.9397 - val_loss: 0.9386 - val_accuracy: 0.8188\n",
            "Epoch 34/35\n",
            "257/257 [==============================] - ETA: 0s - loss: 0.1713 - accuracy: 0.9446\n",
            "Epoch 34: val_accuracy did not improve from 0.83001\n",
            "257/257 [==============================] - 166s 646ms/step - loss: 0.1713 - accuracy: 0.9446 - val_loss: 0.8655 - val_accuracy: 0.8072\n",
            "Epoch 35/35\n",
            "257/257 [==============================] - ETA: 0s - loss: 0.1559 - accuracy: 0.9492\n",
            "Epoch 35: val_accuracy did not improve from 0.83001\n",
            "257/257 [==============================] - 167s 650ms/step - loss: 0.1559 - accuracy: 0.9492 - val_loss: 0.8680 - val_accuracy: 0.7926\n"
          ]
        }
      ]
    },
    {
      "cell_type": "code",
      "source": [
        "# Plot the training and validation accuracies for each epoch\n",
        "\n",
        "acc = history_fine.history['accuracy']\n",
        "val_acc = history_fine.history['val_accuracy']\n",
        "loss = history_fine.history['loss']\n",
        "val_loss = history_fine.history['val_loss']\n",
        "\n",
        "epochs = range(len(acc))\n",
        "\n",
        "plt.plot(epochs, acc, 'r', label='Training accuracy')\n",
        "plt.plot(epochs, val_acc, 'b', label='Validation accuracy')\n",
        "plt.title('Training and validation accuracy')\n",
        "plt.legend(loc=0)\n",
        "plt.figure()\n",
        "\n",
        "plt.show()"
      ],
      "metadata": {
        "id": "NOZ7oLsitCf-",
        "colab": {
          "base_uri": "https://localhost:8080/",
          "height": 299
        },
        "outputId": "9c3c0e4f-31d7-4100-9bfe-281a3d88f07b"
      },
      "id": "NOZ7oLsitCf-",
      "execution_count": 29,
      "outputs": [
        {
          "output_type": "display_data",
          "data": {
            "text/plain": [
              "<Figure size 432x288 with 1 Axes>"
            ],
            "image/png": "[encoded data removed]"
          },
          "metadata": {
            "needs_background": "light"
          }
        },
        {
          "output_type": "display_data",
          "data": {
            "text/plain": [
              "<Figure size 432x288 with 0 Axes>"
            ]
          },
          "metadata": {}
        }
      ]
    },
    {
      "cell_type": "code",
      "execution_count": 30,
      "metadata": {
        "id": "AYrMYbm9b1xF"
      },
      "outputs": [],
      "source": [
        "def test_generate(TEST_DIR):\n",
        "  test_datagen = ImageDataGenerator(\n",
        "      rescale=1./255)\n",
        "\n",
        "  # Pass in the appropriate arguments to the flow_from_directory method\n",
        "  test_generator = test_datagen.flow_from_directory(directory=TEST_DIR,\n",
        "                                                      class_mode='categorical',\n",
        "                                                      batch_size = 1,\n",
        "                                                      target_size=(150, 150),\n",
        "                                                    shuffle = False,\n",
        "                                                      classes=['.'])\n",
        "  return test_generator"
      ],
      "id": "AYrMYbm9b1xF"
    },
    {
      "cell_type": "code",
      "execution_count": 33,
      "metadata": {
        "id": "9WmDcFjXcC1H",
        "colab": {
          "base_uri": "https://localhost:8080/"
        },
        "outputId": "73998b97-c7d5-4909-a53f-1a57a4e2db61"
      },
      "outputs": [
        {
          "output_type": "stream",
          "name": "stdout",
          "text": [
            "Found 1618 images belonging to 1 classes.\n"
          ]
        }
      ],
      "source": [
        "test_local_zip = '/content/drive/MyDrive/test.zip'\n",
        "zip_ref = zipfile.ZipFile(test_local_zip, 'r')\n",
        "zip_ref.extractall('/content/sample_data/lulc-tra-val/lulc-classificatio')\n",
        "\n",
        "zip_ref.close()\n",
        "\n",
        "test_dir = os.path.join(PATH, 'test')\n",
        "test_generator = test_generate(test_dir)"
      ],
      "id": "9WmDcFjXcC1H"
    },
    {
      "cell_type": "code",
      "source": [
        "dictionary = {0 : 10, 1 : 11, 2 : 12, 3 : 13, 4 : 14, 5 : 15, 6 : 16, 7 : 17, 8 : 18, 9 : 19, 10 : 1, 11 : 20, 12 : 21, 13 : 22, 14 : 23, 15 : 24, 16 : 25, 17 : 26, 18 : 27, 19 : 28, 20 : 29, 21 : 2, 22 : 3, 23 : 4, 24 : 5, 25 : 6, 26 : 7, 27 : 8, 28 : 9}"
      ],
      "metadata": {
        "id": "wJokdSXM5iN9"
      },
      "id": "wJokdSXM5iN9",
      "execution_count": 34,
      "outputs": []
    },
    {
      "cell_type": "code",
      "execution_count": 35,
      "metadata": {
        "id": "NVSWKkCUd_ew"
      },
      "outputs": [],
      "source": [
        "model.load_weights(filepath)\n",
        "\n",
        "predict_proba = model.predict(test_generator)\n",
        "predict = np.argmax(predict_proba, axis = 1)\n",
        "predict = np.vectorize(dictionary.get)(predict)"
      ],
      "id": "NVSWKkCUd_ew"
    },
    {
      "cell_type": "code",
      "execution_count": 36,
      "metadata": {
        "id": "NbpcEm4DnS0F"
      },
      "outputs": [],
      "source": [
        "submission = pd.DataFrame()\n",
        "\n",
        "filenames = list()\n",
        "for filename in test_generator.filenames:\n",
        "  if filename.endswith(\".jpg\"):\n",
        "    filenames.append(filename[2:])\n",
        "submission[\"id.jpg\"] = filenames\n",
        "\n",
        "submission[\"label\"] = predict\n",
        "\n",
        "submission.to_csv(\"/content/drive/MyDrive/submission_Xception.csv\", index = False)"
      ],
      "id": "NbpcEm4DnS0F"
    },
    {
      "cell_type": "code",
      "source": [
        "from google.colab import files\n",
        "files.download(\"/content/submission_Xception_1024dense512dense_1025.csv\")"
      ],
      "metadata": {
        "id": "pj1vyLtDtm9M",
        "colab": {
          "base_uri": "https://localhost:8080/",
          "height": 17
        },
        "outputId": "8c9c84d2-3436-4cc6-b7ab-aa0c0670e13f"
      },
      "id": "pj1vyLtDtm9M",
      "execution_count": null,
      "outputs": [
        {
          "output_type": "display_data",
          "data": {
            "text/plain": [
              "<IPython.core.display.Javascript object>"
            ],
            "application/javascript": [
              "\n",
              "    async function download(id, filename, size) {\n",
              "      if (!google.colab.kernel.accessAllowed) {\n",
              "        return;\n",
              "      }\n",
              "      const div = document.createElement('div');\n",
              "      const label = document.createElement('label');\n",
              "      label.textContent = `Downloading \"${filename}\": `;\n",
              "      div.appendChild(label);\n",
              "      const progress = document.createElement('progress');\n",
              "      progress.max = size;\n",
              "      div.appendChild(progress);\n",
              "      document.body.appendChild(div);\n",
              "\n",
              "      const buffers = [];\n",
              "      let downloaded = 0;\n",
              "\n",
              "      const channel = await google.colab.kernel.comms.open(id);\n",
              "      // Send a message to notify the kernel that we're ready.\n",
              "      channel.send({})\n",
              "\n",
              "      for await (const message of channel.messages) {\n",
              "        // Send a message to notify the kernel that we're ready.\n",
              "        channel.send({})\n",
              "        if (message.buffers) {\n",
              "          for (const buffer of message.buffers) {\n",
              "            buffers.push(buffer);\n",
              "            downloaded += buffer.byteLength;\n",
              "            progress.value = downloaded;\n",
              "          }\n",
              "        }\n",
              "      }\n",
              "      const blob = new Blob(buffers, {type: 'application/binary'});\n",
              "      const a = document.createElement('a');\n",
              "      a.href = window.URL.createObjectURL(blob);\n",
              "      a.download = filename;\n",
              "      div.appendChild(a);\n",
              "      a.click();\n",
              "      div.remove();\n",
              "    }\n",
              "  "
            ]
          },
          "metadata": {}
        },
        {
          "output_type": "display_data",
          "data": {
            "text/plain": [
              "<IPython.core.display.Javascript object>"
            ],
            "application/javascript": [
              "download(\"download_00651179-892b-467b-a4cc-5492431987db\", \"submission_Xception_1024dense512dense_1025.csv\", 155474)"
            ]
          },
          "metadata": {}
        }
      ]
    },
    {
      "cell_type": "markdown",
      "metadata": {
        "id": "g-4-4i9U1a0s"
      },
      "source": [
        "You will need to submit this notebook for grading. To download it, click on the `File` tab in the upper left corner of the screen then click on `Download` -> `Download .ipynb`. You can name it anything you want as long as it is a valid `.ipynb` (jupyter notebook) file."
      ],
      "id": "g-4-4i9U1a0s"
    },
    {
      "cell_type": "markdown",
      "metadata": {
        "id": "7w54-pbB1W9r"
      },
      "source": [
        "**Congratulations on finishing this week's assignment!**\n",
        "\n",
        "You have successfully implemented a convolutional neural network that leverages a pre-trained network to help you solve the problem of classifying humans from horses.\n",
        "\n",
        "**Keep it up!**"
      ],
      "id": "7w54-pbB1W9r"
    }
  ],
  "metadata": {
    "accelerator": "GPU",
    "colab": {
      "collapsed_sections": [],
      "name": "JDR_Fine_tuning_Xception.ipynb",
      "provenance": []
    },
    "kernelspec": {
      "display_name": "Python 3",
      "language": "python",
      "name": "python3"
    },
    "language_info": {
      "codemirror_mode": {
        "name": "ipython",
        "version": 3
      },
      "file_extension": ".py",
      "mimetype": "text/x-python",
      "name": "python",
      "nbconvert_exporter": "python",
      "pygments_lexer": "ipython3",
      "version": "3.7.6"
    }
  },
  "nbformat": 4,
  "nbformat_minor": 5
}